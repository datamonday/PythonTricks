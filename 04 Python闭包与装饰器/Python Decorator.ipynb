{
 "cells": [
  {
   "cell_type": "markdown",
   "id": "e3aab214",
   "metadata": {},
   "source": [
    "# is Prime"
   ]
  },
  {
   "cell_type": "code",
   "execution_count": 9,
   "id": "0ddaf799",
   "metadata": {},
   "outputs": [],
   "source": [
    "from math import floor, sqrt\n",
    "import time\n",
    "\n",
    "# 判断是否为素数\n",
    "def is_prime(n):\n",
    "    if n < 2:\n",
    "        return False\n",
    "    elif n == 2:\n",
    "        return True\n",
    "    elif n % 2 == 0:\n",
    "        return False\n",
    "    else:\n",
    "        sqrt_n = int(floor(sqrt(n)))\n",
    "        \n",
    "        for i in range(3, sqrt_n + 1, 2):\n",
    "            if n % i == 0:\n",
    "                return False\n",
    "            \n",
    "        return True"
   ]
  },
  {
   "cell_type": "code",
   "execution_count": 2,
   "id": "6761cdac",
   "metadata": {},
   "outputs": [
    {
     "data": {
      "text/plain": [
       "True"
      ]
     },
     "execution_count": 2,
     "metadata": {},
     "output_type": "execute_result"
    }
   ],
   "source": [
    "is_prime(2)"
   ]
  },
  {
   "cell_type": "code",
   "execution_count": 3,
   "id": "630e882c",
   "metadata": {},
   "outputs": [
    {
     "data": {
      "text/plain": [
       "False"
      ]
     },
     "execution_count": 3,
     "metadata": {},
     "output_type": "execute_result"
    }
   ],
   "source": [
    "is_prime(4)"
   ]
  },
  {
   "cell_type": "code",
   "execution_count": 4,
   "id": "fe274c4a",
   "metadata": {},
   "outputs": [
    {
     "data": {
      "text/plain": [
       "True"
      ]
     },
     "execution_count": 4,
     "metadata": {},
     "output_type": "execute_result"
    }
   ],
   "source": [
    "is_prime(7)"
   ]
  },
  {
   "cell_type": "code",
   "execution_count": 5,
   "id": "7f1f8156",
   "metadata": {},
   "outputs": [
    {
     "data": {
      "text/plain": [
       "False"
      ]
     },
     "execution_count": 5,
     "metadata": {},
     "output_type": "execute_result"
    }
   ],
   "source": [
    "is_prime(8)"
   ]
  },
  {
   "cell_type": "code",
   "execution_count": 6,
   "id": "35561b80",
   "metadata": {},
   "outputs": [
    {
     "data": {
      "text/plain": [
       "False"
      ]
     },
     "execution_count": 6,
     "metadata": {},
     "output_type": "execute_result"
    }
   ],
   "source": [
    "is_prime(9)"
   ]
  },
  {
   "cell_type": "code",
   "execution_count": 13,
   "id": "bdb8a4e9",
   "metadata": {},
   "outputs": [
    {
     "name": "stdout",
     "output_type": "stream",
     "text": [
      "2\n",
      "3\n",
      "5\n",
      "7\n",
      "11\n",
      "13\n",
      "17\n",
      "19\n",
      "23\n",
      "29\n",
      "31\n",
      "37\n",
      "41\n",
      "43\n",
      "47\n",
      "53\n",
      "59\n",
      "61\n",
      "67\n",
      "71\n",
      "73\n",
      "79\n",
      "83\n",
      "89\n",
      "97\n",
      "101\n",
      "103\n",
      "107\n",
      "109\n",
      "113\n",
      "127\n",
      "131\n",
      "137\n",
      "139\n",
      "149\n",
      "151\n",
      "157\n",
      "163\n",
      "167\n",
      "173\n",
      "179\n",
      "181\n",
      "191\n",
      "193\n",
      "197\n",
      "199\n",
      "211\n",
      "223\n",
      "227\n",
      "229\n",
      "233\n",
      "239\n",
      "241\n",
      "251\n",
      "257\n",
      "263\n",
      "269\n",
      "271\n",
      "277\n",
      "281\n",
      "283\n",
      "293\n",
      "307\n",
      "311\n",
      "313\n",
      "317\n",
      "331\n",
      "337\n",
      "347\n",
      "349\n",
      "353\n",
      "359\n",
      "367\n",
      "373\n",
      "379\n",
      "383\n",
      "389\n",
      "397\n",
      "401\n",
      "409\n",
      "419\n",
      "421\n",
      "431\n",
      "433\n",
      "439\n",
      "443\n",
      "449\n",
      "457\n",
      "461\n",
      "463\n",
      "467\n",
      "479\n",
      "487\n",
      "491\n",
      "499\n",
      "503\n",
      "509\n",
      "521\n",
      "523\n",
      "541\n",
      "547\n",
      "557\n",
      "563\n",
      "569\n",
      "571\n",
      "577\n",
      "587\n",
      "593\n",
      "599\n",
      "601\n",
      "607\n",
      "613\n",
      "617\n",
      "619\n",
      "631\n",
      "641\n",
      "643\n",
      "647\n",
      "653\n",
      "659\n",
      "661\n",
      "673\n",
      "677\n",
      "683\n",
      "691\n",
      "701\n",
      "709\n",
      "719\n",
      "727\n",
      "733\n",
      "739\n",
      "743\n",
      "751\n",
      "757\n",
      "761\n",
      "769\n",
      "773\n",
      "787\n",
      "797\n",
      "809\n",
      "811\n",
      "821\n",
      "823\n",
      "827\n",
      "829\n",
      "839\n",
      "853\n",
      "857\n",
      "859\n",
      "863\n",
      "877\n",
      "881\n",
      "883\n",
      "887\n",
      "907\n",
      "911\n",
      "919\n",
      "929\n",
      "937\n",
      "941\n",
      "947\n",
      "953\n",
      "967\n",
      "971\n",
      "977\n",
      "983\n",
      "991\n",
      "997\n",
      "time cost: 0.014466047286987305\n"
     ]
    }
   ],
   "source": [
    "def find_prime(n=1000):\n",
    "    \"\"\"\n",
    "    打印指定范围内的素数，并实现程序运行计时\n",
    "    \"\"\"\n",
    "    start = time.time()\n",
    "    for i in range(2, n):\n",
    "        if is_prime(i):\n",
    "            print(i)\n",
    "    \n",
    "    end = time.time()\n",
    "    \n",
    "    print(\"time cost:\", end - start)\n",
    "\n",
    "find_prime()"
   ]
  },
  {
   "cell_type": "markdown",
   "id": "deaa07fa",
   "metadata": {},
   "source": [
    "以上代码遇到的问题：如果需要统计每个函数的运行耗时，每次都需要写start和end，重复操作可以通过 **装饰器** 实现。"
   ]
  },
  {
   "cell_type": "markdown",
   "id": "5abee8d3",
   "metadata": {},
   "source": [
    "# Decorator"
   ]
  },
  {
   "cell_type": "markdown",
   "id": "09eb7b77",
   "metadata": {},
   "source": [
    "### 注意参数传递 *args\n",
    "### 注意带返回值的处理"
   ]
  },
  {
   "cell_type": "code",
   "execution_count": 18,
   "id": "257b84a9",
   "metadata": {},
   "outputs": [],
   "source": [
    "def display_time(func):\n",
    "    def wrapper(*args):\n",
    "        start = time.time()\n",
    "        \n",
    "        func(*args)\n",
    "        \n",
    "        end = time.time()\n",
    "        print(\"time cost:\", end - start)\n",
    "        \n",
    "    return wrapper"
   ]
  },
  {
   "cell_type": "code",
   "execution_count": 19,
   "id": "caa527f9",
   "metadata": {},
   "outputs": [],
   "source": [
    "@display_time\n",
    "def find_prime_pure(n):\n",
    "    for i in range(2, n):\n",
    "        if is_prime(i):\n",
    "            print(i)"
   ]
  },
  {
   "cell_type": "code",
   "execution_count": 20,
   "id": "b0bd5fd6",
   "metadata": {},
   "outputs": [
    {
     "name": "stdout",
     "output_type": "stream",
     "text": [
      "2\n",
      "3\n",
      "5\n",
      "7\n",
      "11\n",
      "13\n",
      "17\n",
      "19\n",
      "23\n",
      "29\n",
      "31\n",
      "37\n",
      "41\n",
      "43\n",
      "47\n",
      "53\n",
      "59\n",
      "61\n",
      "67\n",
      "71\n",
      "73\n",
      "79\n",
      "83\n",
      "89\n",
      "97\n",
      "time cost: 0.0009801387786865234\n"
     ]
    }
   ],
   "source": [
    "find_prime_pure(100)"
   ]
  },
  {
   "cell_type": "code",
   "execution_count": 22,
   "id": "15a99473",
   "metadata": {},
   "outputs": [
    {
     "name": "stdout",
     "output_type": "stream",
     "text": [
      "time cost: 0.0\n"
     ]
    },
    {
     "data": {
      "text/plain": [
       "25"
      ]
     },
     "execution_count": 22,
     "metadata": {},
     "output_type": "execute_result"
    }
   ],
   "source": [
    "def display_time(func):\n",
    "    def wrapper(*args):\n",
    "        start = time.time()\n",
    "        \n",
    "        # func(*args)\n",
    "        result = func(*args)\n",
    "        \n",
    "        end = time.time()\n",
    "        print(\"time cost:\", end - start)\n",
    "        \n",
    "        # 返回\n",
    "        return result\n",
    "        \n",
    "    return wrapper\n",
    "\n",
    "@display_time\n",
    "def count_prime_pure(n):\n",
    "    count = 0\n",
    "    for i in range(2, n):\n",
    "        if is_prime(i):\n",
    "            count += 1\n",
    "    return count\n",
    "\n",
    "count_prime_pure(100)"
   ]
  },
  {
   "cell_type": "markdown",
   "id": "9e002025",
   "metadata": {},
   "source": [
    "Python中支持特殊语法，在某个函数上方使用："
   ]
  },
  {
   "cell_type": "code",
   "execution_count": 6,
   "id": "8b7e938e",
   "metadata": {},
   "outputs": [],
   "source": [
    "def decorator(func):\n",
    "    pass\n",
    "\n",
    "@decorator\n",
    "def xx():\n",
    "    pass"
   ]
  },
  {
   "cell_type": "markdown",
   "id": "b9888cd3",
   "metadata": {},
   "source": [
    "Python内部会自动执行 `函数名（func）`，执行完之后，再将结果赋值给 `xx`"
   ]
  },
  {
   "cell_type": "code",
   "execution_count": 7,
   "id": "902c2051",
   "metadata": {},
   "outputs": [],
   "source": [
    "def outer(origin):\n",
    "    \n",
    "    def inner(*args, **kwargs):\n",
    "        print(\"before\")\n",
    "        \n",
    "        # 调用原来的func函数\n",
    "        result = origin(*args, **kwargs)\n",
    "        \n",
    "        print(\"after\")\n",
    "        \n",
    "        return result\n",
    "    \n",
    "    return inner"
   ]
  },
  {
   "cell_type": "code",
   "execution_count": 9,
   "id": "129a415d",
   "metadata": {},
   "outputs": [],
   "source": [
    "@outer\n",
    "def func1(arg1, arg2):\n",
    "    print(arg1, arg2)\n",
    "\n",
    "@outer\n",
    "def func2(arg1, arg2):\n",
    "    print(arg1, arg2)   "
   ]
  },
  {
   "cell_type": "code",
   "execution_count": 10,
   "id": "e4cf23f1",
   "metadata": {},
   "outputs": [
    {
     "name": "stdout",
     "output_type": "stream",
     "text": [
      "before\n",
      "2021 0416\n",
      "after\n",
      "before\n",
      "2021 0000\n",
      "after\n"
     ]
    }
   ],
   "source": [
    "func1('2021', '0416')\n",
    "\n",
    "func2('2021', '0000')"
   ]
  },
  {
   "cell_type": "markdown",
   "id": "a60d711e",
   "metadata": {},
   "source": [
    "## 装饰器\n",
    "- 实现原理：基于 @语法和函数闭包，将原函数封装在闭包中，然后将函数赋值为一个新的函数（内层函数），执行函数时再在内层函数中执行闭包中的原函数。\n",
    "- 适用场景：在函数执行前后，扩展一些功能。"
   ]
  },
  {
   "cell_type": "markdown",
   "id": "92519ae8",
   "metadata": {},
   "source": [
    "## functools -- 伪造装饰器"
   ]
  },
  {
   "cell_type": "code",
   "execution_count": 16,
   "id": "c8d45402",
   "metadata": {},
   "outputs": [],
   "source": [
    "import functools\n",
    "\n",
    "\n",
    "def auth(func):\n",
    "    # 将inner的函数名和注释变为 被调用(装饰)的函数的函数名和注释\n",
    "    @functools.wraps(func)\n",
    "    \n",
    "    def inner(*args, **kwargs):\n",
    "        \"\"\"\n",
    "        this is inner function.\n",
    "        \"\"\"\n",
    "        result = func(*args, **kwargs)\n",
    "        \n",
    "        return result\n",
    "    \n",
    "    return inner"
   ]
  },
  {
   "cell_type": "code",
   "execution_count": 17,
   "id": "eca182a7",
   "metadata": {},
   "outputs": [],
   "source": [
    "@auth\n",
    "def admin():\n",
    "    \"\"\"\n",
    "    this is admin annotation.\n",
    "    \"\"\"\n",
    "    print(\"run admin\")"
   ]
  },
  {
   "cell_type": "code",
   "execution_count": 18,
   "id": "54d2335d",
   "metadata": {},
   "outputs": [
    {
     "name": "stdout",
     "output_type": "stream",
     "text": [
      "run admin\n"
     ]
    }
   ],
   "source": [
    "admin()"
   ]
  },
  {
   "cell_type": "code",
   "execution_count": 19,
   "id": "9ed86075",
   "metadata": {},
   "outputs": [
    {
     "name": "stdout",
     "output_type": "stream",
     "text": [
      "admin\n",
      "\n",
      "    this is admin annotation.\n",
      "    \n"
     ]
    }
   ],
   "source": [
    "# 打印函数名\n",
    "print(admin.__name__)\n",
    "\n",
    "# 打印函数说明\n",
    "print(admin.__doc__)"
   ]
  }
 ],
 "metadata": {
  "kernelspec": {
   "display_name": "Python 3",
   "language": "python",
   "name": "python3"
  },
  "language_info": {
   "codemirror_mode": {
    "name": "ipython",
    "version": 3
   },
   "file_extension": ".py",
   "mimetype": "text/x-python",
   "name": "python",
   "nbconvert_exporter": "python",
   "pygments_lexer": "ipython3",
   "version": "3.8.5"
  }
 },
 "nbformat": 4,
 "nbformat_minor": 5
}
