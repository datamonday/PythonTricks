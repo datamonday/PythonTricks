{
 "cells": [
  {
   "cell_type": "code",
   "execution_count": 19,
   "metadata": {},
   "outputs": [
    {
     "name": "stdout",
     "output_type": "stream",
     "text": [
      "The Zen of Python, by Tim Peters\n",
      "\n",
      "Beautiful is better than ugly.\n",
      "Explicit is better than implicit.\n",
      "Simple is better than complex.\n",
      "Complex is better than complicated.\n",
      "Flat is better than nested.\n",
      "Sparse is better than dense.\n",
      "Readability counts.\n",
      "Special cases aren't special enough to break the rules.\n",
      "Although practicality beats purity.\n",
      "Errors should never pass silently.\n",
      "Unless explicitly silenced.\n",
      "In the face of ambiguity, refuse the temptation to guess.\n",
      "There should be one-- and preferably only one --obvious way to do it.\n",
      "Although that way may not be obvious at first unless you're Dutch.\n",
      "Now is better than never.\n",
      "Although never is often better than *right* now.\n",
      "If the implementation is hard to explain, it's a bad idea.\n",
      "If the implementation is easy to explain, it may be a good idea.\n",
      "Namespaces are one honking great idea -- let's do more of those!\n"
     ]
    }
   ],
   "source": [
    "import this"
   ]
  },
  {
   "cell_type": "code",
   "execution_count": 20,
   "metadata": {},
   "outputs": [
    {
     "data": {
      "text/plain": [
       "(99, 100)"
      ]
     },
     "execution_count": 20,
     "metadata": {},
     "output_type": "execute_result"
    }
   ],
   "source": [
    "# 1. Swapping Variables\n",
    "a = 100\n",
    "b = 99\n",
    "\n",
    "a, b = b, a\n",
    "\n",
    "a, b"
   ]
  },
  {
   "cell_type": "code",
   "execution_count": 25,
   "metadata": {},
   "outputs": [
    {
     "name": "stdout",
     "output_type": "stream",
     "text": [
      "Player info: number 10, name Leo Messi, age 33, club FCB, height 169.00.\n",
      "Player info: number 10, name Leo Messi, age 33, club FCB, height 169.0.\n"
     ]
    }
   ],
   "source": [
    "# 2.String Formatting\n",
    "number = 10\n",
    "name = 'Leo Messi'\n",
    "age = 33\n",
    "club = 'FCB'\n",
    "height = 169.00\n",
    "\n",
    "print('Player info: number %d, name %s, age %d, club %s, height %.2f.' % \n",
    "     (number, name, age, club, height))\n",
    "\n",
    "print(f'Player info: number {number}, name {name}, age {age}, club {club}, height {height}.')"
   ]
  },
  {
   "cell_type": "code",
   "execution_count": 45,
   "metadata": {},
   "outputs": [
    {
     "name": "stdout",
     "output_type": "stream",
     "text": [
      "0\n",
      "1\n",
      "1\n",
      "2\n",
      "3\n",
      "5\n",
      "8\n",
      "13\n",
      "21\n",
      "34\n"
     ]
    }
   ],
   "source": [
    "# 3.Yield Statement\n",
    "\n",
    "def fibonacci(n):\n",
    "    a = 0\n",
    "    b = 1\n",
    "    nums = []\n",
    "    for _ in range(n):\n",
    "        nums.append(a)\n",
    "        a, b = b, a + b\n",
    "    return nums\n",
    "\n",
    "\n",
    "def fibonacci(n):\n",
    "    a = 0\n",
    "    b = 1\n",
    "    for _ in range(n):\n",
    "        yield a\n",
    "        a, b = b, a + b\n",
    "\n",
    "for i in fibonacci(10):\n",
    "    print(i)"
   ]
  },
  {
   "cell_type": "code",
   "execution_count": 43,
   "metadata": {},
   "outputs": [
    {
     "data": {
      "text/plain": [
       "<generator object fibonacci at 0x0000023BA12D7190>"
      ]
     },
     "execution_count": 43,
     "metadata": {},
     "output_type": "execute_result"
    }
   ],
   "source": [
    "fibonacci(2)"
   ]
  },
  {
   "cell_type": "code",
   "execution_count": 4,
   "metadata": {},
   "outputs": [
    {
     "data": {
      "text/plain": [
       "['a', 'b', 'd', 'e', 'f', 'g']"
      ]
     },
     "execution_count": 4,
     "metadata": {},
     "output_type": "execute_result"
    }
   ],
   "source": [
    "# 4.List Comprehension\n",
    "alpha = [\"a\", \"b\", \"d\", \"e\", \"f\", \"g\"]\n",
    "alpha"
   ]
  },
  {
   "cell_type": "code",
   "execution_count": 5,
   "metadata": {},
   "outputs": [
    {
     "data": {
      "text/plain": [
       "['A', 'B', 'D', 'E', 'F', 'G']"
      ]
     },
     "execution_count": 5,
     "metadata": {},
     "output_type": "execute_result"
    }
   ],
   "source": [
    "alpha_upper = [x.upper() for x in alpha]\n",
    "alpha_upper"
   ]
  },
  {
   "cell_type": "code",
   "execution_count": 7,
   "metadata": {},
   "outputs": [
    {
     "data": {
      "text/plain": [
       "['a']"
      ]
     },
     "execution_count": 7,
     "metadata": {},
     "output_type": "execute_result"
    }
   ],
   "source": [
    "filter_alpha = [x for x in alpha if x.startswith('a')]\n",
    "filter_alpha"
   ]
  },
  {
   "cell_type": "code",
   "execution_count": 9,
   "metadata": {},
   "outputs": [
    {
     "name": "stdout",
     "output_type": "stream",
     "text": [
      "0 a\n",
      "1 b\n",
      "2 d\n",
      "3 e\n",
      "4 f\n",
      "5 g\n"
     ]
    }
   ],
   "source": [
    "# 5.enumerate function\n",
    "for idx, item in enumerate(alpha):\n",
    "    print(idx, item)"
   ]
  },
  {
   "cell_type": "code",
   "execution_count": 10,
   "metadata": {},
   "outputs": [
    {
     "name": "stdout",
     "output_type": "stream",
     "text": [
      "0 g\n",
      "1 f\n",
      "2 e\n",
      "3 d\n",
      "4 b\n",
      "5 a\n"
     ]
    }
   ],
   "source": [
    "# 6.Looping Backwards\n",
    "for idx, item in enumerate(reversed(alpha)):\n",
    "    print(idx, item)"
   ]
  },
  {
   "cell_type": "code",
   "execution_count": 12,
   "metadata": {},
   "outputs": [
    {
     "name": "stdout",
     "output_type": "stream",
     "text": [
      "0 a\n",
      "1 b\n",
      "2 d\n",
      "3 e\n",
      "4 f\n",
      "5 g\n"
     ]
    }
   ],
   "source": [
    "# 6.Looping in Sorted Order\n",
    "for idx, item in enumerate(sorted(alpha)):\n",
    "    print(idx, item)"
   ]
  },
  {
   "cell_type": "code",
   "execution_count": 2,
   "metadata": {},
   "outputs": [
    {
     "data": {
      "text/plain": [
       "{'Messi': 10, 'Alexia': 27, 'Pique': 3, 'Pederi': 16, 'Fati': 22}"
      ]
     },
     "execution_count": 2,
     "metadata": {},
     "output_type": "execute_result"
    }
   ],
   "source": [
    "# 7.merge dict\n",
    "a = {\"Messi\":10, \"Alexia\":27, \"Pique\":3}\n",
    "b = {\"Pederi\":16, \"Fati\":22, \"Alexia\":27}\n",
    "\n",
    "# unpacking operating\n",
    "c = {**a, **b}\n",
    "c"
   ]
  },
  {
   "cell_type": "code",
   "execution_count": 14,
   "metadata": {},
   "outputs": [
    {
     "data": {
      "text/plain": [
       "'high'"
      ]
     },
     "execution_count": 14,
     "metadata": {},
     "output_type": "execute_result"
    }
   ],
   "source": [
    "# 8.Ternary Operator\n",
    "x = 100\n",
    "\n",
    "y = 'high' if x > 85 else 'common'\n",
    "y"
   ]
  },
  {
   "cell_type": "code",
   "execution_count": 15,
   "metadata": {},
   "outputs": [
    {
     "data": {
      "text/plain": [
       "('Leo', 'Messi')"
      ]
     },
     "execution_count": 15,
     "metadata": {},
     "output_type": "execute_result"
    }
   ],
   "source": [
    "# 9.Sequence Unpacking\n",
    "name = 'Leo Messi'\n",
    "first_name, last_name = name.split(' ')\n",
    "first_name, last_name"
   ]
  },
  {
   "cell_type": "code",
   "execution_count": 18,
   "metadata": {},
   "outputs": [
    {
     "name": "stdout",
     "output_type": "stream",
     "text": [
      "10 Leo Messi\n",
      "\n",
      "1\n",
      "0\n",
      " \n",
      "L\n",
      "e\n",
      "o\n",
      " \n",
      "M\n",
      "e\n",
      "s\n",
      "s\n",
      "i\n",
      "\n",
      "\n",
      "03 Pique\n",
      "\n",
      "0\n",
      "3\n",
      " \n",
      "P\n",
      "i\n",
      "q\n",
      "u\n",
      "e\n",
      "\n",
      "\n"
     ]
    }
   ],
   "source": [
    "# 10.With Statement\n",
    "with open('test.txt', 'r') as f:\n",
    "    s = f.readlines()\n",
    "    for line in s:\n",
    "        print(line)\n",
    "        for item in line:\n",
    "            print(item)"
   ]
  }
 ],
 "metadata": {
  "kernelspec": {
   "display_name": "Python 3",
   "language": "python",
   "name": "python3"
  },
  "language_info": {
   "codemirror_mode": {
    "name": "ipython",
    "version": 3
   },
   "file_extension": ".py",
   "mimetype": "text/x-python",
   "name": "python",
   "nbconvert_exporter": "python",
   "pygments_lexer": "ipython3",
   "version": "3.8.6"
  }
 },
 "nbformat": 4,
 "nbformat_minor": 4
}
