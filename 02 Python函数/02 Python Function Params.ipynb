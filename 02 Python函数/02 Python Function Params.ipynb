{
 "cells": [
  {
   "cell_type": "markdown",
   "id": "b9938abe",
   "metadata": {},
   "source": [
    "## 1. 位置参数"
   ]
  },
  {
   "cell_type": "code",
   "execution_count": 15,
   "id": "f42ec7bd",
   "metadata": {},
   "outputs": [
    {
     "data": {
      "text/plain": [
       "90"
      ]
     },
     "execution_count": 15,
     "metadata": {},
     "output_type": "execute_result"
    }
   ],
   "source": [
    "def calculate(a, b, c):\n",
    "    return (a**2 + b**3 + c**4)\n",
    "\n",
    "calculate(1, 2, 3)"
   ]
  },
  {
   "cell_type": "markdown",
   "id": "13ea785b",
   "metadata": {},
   "source": [
    "## 2. 关键字参数"
   ]
  },
  {
   "cell_type": "code",
   "execution_count": 16,
   "id": "d0283b55",
   "metadata": {},
   "outputs": [
    {
     "data": {
      "text/plain": [
       "90"
      ]
     },
     "execution_count": 16,
     "metadata": {},
     "output_type": "execute_result"
    }
   ],
   "source": [
    "calculate(b=2, a=1, c=3)"
   ]
  },
  {
   "cell_type": "markdown",
   "id": "06c0902d",
   "metadata": {},
   "source": [
    "## 3. 混搭参数\n",
    "- 位置参数在前，关键字参数在最后"
   ]
  },
  {
   "cell_type": "code",
   "execution_count": 17,
   "id": "9f26a6dd",
   "metadata": {},
   "outputs": [
    {
     "data": {
      "text/plain": [
       "90"
      ]
     },
     "execution_count": 17,
     "metadata": {},
     "output_type": "execute_result"
    }
   ],
   "source": [
    "calculate(1, 2, c=3)"
   ]
  },
  {
   "cell_type": "markdown",
   "id": "c59cbacc",
   "metadata": {},
   "source": [
    "## 4. 强制关键字参数\n",
    "- 添加 `*` \n",
    "- 可以混搭"
   ]
  },
  {
   "cell_type": "code",
   "execution_count": 18,
   "id": "e829a121",
   "metadata": {},
   "outputs": [],
   "source": [
    "def calculate2(*, a, b, c):\n",
    "    return (a**2 + b**3 + c**4)"
   ]
  },
  {
   "cell_type": "code",
   "execution_count": 19,
   "id": "06ffb599",
   "metadata": {},
   "outputs": [
    {
     "ename": "TypeError",
     "evalue": "calculate2() takes 0 positional arguments but 3 were given",
     "output_type": "error",
     "traceback": [
      "\u001b[1;31m---------------------------------------------------------------------------\u001b[0m",
      "\u001b[1;31mTypeError\u001b[0m                                 Traceback (most recent call last)",
      "\u001b[1;32m<ipython-input-19-1ef221c632ea>\u001b[0m in \u001b[0;36m<module>\u001b[1;34m\u001b[0m\n\u001b[1;32m----> 1\u001b[1;33m \u001b[0mcalculate2\u001b[0m\u001b[1;33m(\u001b[0m\u001b[1;36m1\u001b[0m\u001b[1;33m,\u001b[0m \u001b[1;36m2\u001b[0m\u001b[1;33m,\u001b[0m \u001b[1;36m3\u001b[0m\u001b[1;33m)\u001b[0m\u001b[1;33m\u001b[0m\u001b[1;33m\u001b[0m\u001b[0m\n\u001b[0m",
      "\u001b[1;31mTypeError\u001b[0m: calculate2() takes 0 positional arguments but 3 were given"
     ]
    }
   ],
   "source": [
    "calculate2(1, 2, 3)"
   ]
  },
  {
   "cell_type": "code",
   "execution_count": 20,
   "id": "8c637033",
   "metadata": {},
   "outputs": [
    {
     "data": {
      "text/plain": [
       "90"
      ]
     },
     "execution_count": 20,
     "metadata": {},
     "output_type": "execute_result"
    }
   ],
   "source": [
    "calculate2(b=2, a=1, c=3)"
   ]
  },
  {
   "cell_type": "code",
   "execution_count": 23,
   "id": "b15d0bb9",
   "metadata": {},
   "outputs": [],
   "source": [
    "def calculate3(a, *,  b, c):\n",
    "    return (a**2 + b**3 + c**4)"
   ]
  },
  {
   "cell_type": "code",
   "execution_count": 25,
   "id": "fb226693",
   "metadata": {},
   "outputs": [
    {
     "data": {
      "text/plain": [
       "90"
      ]
     },
     "execution_count": 25,
     "metadata": {},
     "output_type": "execute_result"
    }
   ],
   "source": [
    "calculate3(1, b=2, c=3)"
   ]
  },
  {
   "cell_type": "markdown",
   "id": "32c14f0c",
   "metadata": {},
   "source": [
    "## 5. 默认参数\n",
    "- 非默认参数在前，默认参数在后"
   ]
  },
  {
   "cell_type": "code",
   "execution_count": 26,
   "id": "52704b8b",
   "metadata": {},
   "outputs": [
    {
     "data": {
      "text/plain": [
       "90"
      ]
     },
     "execution_count": 26,
     "metadata": {},
     "output_type": "execute_result"
    }
   ],
   "source": [
    "def calculate4(a, b, c=3):\n",
    "    return (a**2 + b**3 + c**4)\n",
    "\n",
    "calculate4(1, b=2)"
   ]
  },
  {
   "cell_type": "markdown",
   "id": "b5e89df1",
   "metadata": {},
   "source": [
    "## 6. 可变参数（位置）\n",
    "- 一个星号 `*`"
   ]
  },
  {
   "cell_type": "code",
   "execution_count": 27,
   "id": "00ad6578",
   "metadata": {},
   "outputs": [],
   "source": [
    "def player(name, age, club, *others):\n",
    "    print(\"name:\", name, \"age:\", age, \"club:\", club, \n",
    "          \"position:\", others[0], \n",
    "          \"salary:\", others[1])"
   ]
  },
  {
   "cell_type": "code",
   "execution_count": 30,
   "id": "d8adb1c3",
   "metadata": {},
   "outputs": [
    {
     "name": "stdout",
     "output_type": "stream",
     "text": [
      "name: messi age: 33 club: fcb position: mid salary: 40m\n"
     ]
    }
   ],
   "source": [
    "player('messi', 33, 'fcb', 'mid', '40m')"
   ]
  },
  {
   "cell_type": "code",
   "execution_count": 31,
   "id": "5ec6fa1b",
   "metadata": {},
   "outputs": [
    {
     "ename": "IndexError",
     "evalue": "tuple index out of range",
     "output_type": "error",
     "traceback": [
      "\u001b[1;31m---------------------------------------------------------------------------\u001b[0m",
      "\u001b[1;31mIndexError\u001b[0m                                Traceback (most recent call last)",
      "\u001b[1;32m<ipython-input-31-53e3f7ce1989>\u001b[0m in \u001b[0;36m<module>\u001b[1;34m\u001b[0m\n\u001b[1;32m----> 1\u001b[1;33m \u001b[0mplayer\u001b[0m\u001b[1;33m(\u001b[0m\u001b[1;34m'messi'\u001b[0m\u001b[1;33m,\u001b[0m \u001b[1;36m33\u001b[0m\u001b[1;33m,\u001b[0m \u001b[1;34m'fcb'\u001b[0m\u001b[1;33m,\u001b[0m \u001b[1;34m'mid'\u001b[0m\u001b[1;33m)\u001b[0m\u001b[1;33m\u001b[0m\u001b[1;33m\u001b[0m\u001b[0m\n\u001b[0m",
      "\u001b[1;32m<ipython-input-27-d922c59614d0>\u001b[0m in \u001b[0;36mplayer\u001b[1;34m(name, age, club, *others)\u001b[0m\n\u001b[0;32m      2\u001b[0m     print(\"name:\", name, \"age:\", age, \"club:\", club, \n\u001b[0;32m      3\u001b[0m           \u001b[1;34m\"position:\"\u001b[0m\u001b[1;33m,\u001b[0m \u001b[0mothers\u001b[0m\u001b[1;33m[\u001b[0m\u001b[1;36m0\u001b[0m\u001b[1;33m]\u001b[0m\u001b[1;33m,\u001b[0m\u001b[1;33m\u001b[0m\u001b[1;33m\u001b[0m\u001b[0m\n\u001b[1;32m----> 4\u001b[1;33m           \"salary:\", others[1])\n\u001b[0m",
      "\u001b[1;31mIndexError\u001b[0m: tuple index out of range"
     ]
    }
   ],
   "source": [
    "player('messi', 33, 'fcb', 'mid')"
   ]
  },
  {
   "cell_type": "markdown",
   "id": "e946db2e",
   "metadata": {},
   "source": [
    "## 7. 可变参数（关键字）\n",
    "- 两个星号 `**`\n",
    "- 使用键值对调用，否则报错\n",
    "- 不支持混搭（混搭：先位置，后关键字）"
   ]
  },
  {
   "cell_type": "code",
   "execution_count": 35,
   "id": "fcd46727",
   "metadata": {},
   "outputs": [],
   "source": [
    "def player2(name, age, club, **others):\n",
    "    print(\"name:\", name, \"age:\", age, \"club:\", club, \n",
    "          \"position:\", others['position'], \n",
    "          \"salary:\", others['salary'])"
   ]
  },
  {
   "cell_type": "code",
   "execution_count": 36,
   "id": "5cad697d",
   "metadata": {},
   "outputs": [
    {
     "name": "stdout",
     "output_type": "stream",
     "text": [
      "name: messi age: 33 club: fcb position: mid salary: 40m\n"
     ]
    }
   ],
   "source": [
    "player2('messi', 33, 'fcb', \n",
    "        position = 'mid', \n",
    "        salary = '40m')"
   ]
  },
  {
   "cell_type": "code",
   "execution_count": 37,
   "id": "8673d348",
   "metadata": {},
   "outputs": [
    {
     "name": "stdout",
     "output_type": "stream",
     "text": [
      "name: pedri age: 18 club: fcb position: mid salary: None\n"
     ]
    }
   ],
   "source": [
    "player2('pedri', 18, 'fcb', \n",
    "        position = 'mid', \n",
    "        salary = None)"
   ]
  },
  {
   "cell_type": "code",
   "execution_count": 38,
   "id": "4bb5ca40",
   "metadata": {},
   "outputs": [
    {
     "ename": "TypeError",
     "evalue": "player2() takes 3 positional arguments but 4 were given",
     "output_type": "error",
     "traceback": [
      "\u001b[1;31m---------------------------------------------------------------------------\u001b[0m",
      "\u001b[1;31mTypeError\u001b[0m                                 Traceback (most recent call last)",
      "\u001b[1;32m<ipython-input-38-f6cc5351919a>\u001b[0m in \u001b[0;36m<module>\u001b[1;34m\u001b[0m\n\u001b[1;32m----> 1\u001b[1;33m player2('pedri', 18, 'fcb', \n\u001b[0m\u001b[0;32m      2\u001b[0m         \u001b[1;34m'mid'\u001b[0m\u001b[1;33m,\u001b[0m\u001b[1;33m\u001b[0m\u001b[1;33m\u001b[0m\u001b[0m\n\u001b[0;32m      3\u001b[0m         salary = None)\n",
      "\u001b[1;31mTypeError\u001b[0m: player2() takes 3 positional arguments but 4 were given"
     ]
    }
   ],
   "source": [
    "player2('pedri', 18, 'fcb', \n",
    "        'mid', \n",
    "        salary = None)"
   ]
  },
  {
   "cell_type": "code",
   "execution_count": 39,
   "id": "24f37e09",
   "metadata": {},
   "outputs": [
    {
     "ename": "KeyError",
     "evalue": "'position'",
     "output_type": "error",
     "traceback": [
      "\u001b[1;31m---------------------------------------------------------------------------\u001b[0m",
      "\u001b[1;31mKeyError\u001b[0m                                  Traceback (most recent call last)",
      "\u001b[1;32m<ipython-input-39-7ddf04182810>\u001b[0m in \u001b[0;36m<module>\u001b[1;34m\u001b[0m\n\u001b[1;32m----> 1\u001b[1;33m player2('pedri', 18, 'fcb', \n\u001b[0m\u001b[0;32m      2\u001b[0m         salary = None)\n",
      "\u001b[1;32m<ipython-input-35-cc493bebe5d8>\u001b[0m in \u001b[0;36mplayer2\u001b[1;34m(name, age, club, **others)\u001b[0m\n\u001b[0;32m      1\u001b[0m \u001b[1;32mdef\u001b[0m \u001b[0mplayer2\u001b[0m\u001b[1;33m(\u001b[0m\u001b[0mname\u001b[0m\u001b[1;33m,\u001b[0m \u001b[0mage\u001b[0m\u001b[1;33m,\u001b[0m \u001b[0mclub\u001b[0m\u001b[1;33m,\u001b[0m \u001b[1;33m**\u001b[0m\u001b[0mothers\u001b[0m\u001b[1;33m)\u001b[0m\u001b[1;33m:\u001b[0m\u001b[1;33m\u001b[0m\u001b[1;33m\u001b[0m\u001b[0m\n\u001b[0;32m      2\u001b[0m     print(\"name:\", name, \"age:\", age, \"club:\", club, \n\u001b[1;32m----> 3\u001b[1;33m           \u001b[1;34m\"position:\"\u001b[0m\u001b[1;33m,\u001b[0m \u001b[0mothers\u001b[0m\u001b[1;33m[\u001b[0m\u001b[1;34m'position'\u001b[0m\u001b[1;33m]\u001b[0m\u001b[1;33m,\u001b[0m\u001b[1;33m\u001b[0m\u001b[1;33m\u001b[0m\u001b[0m\n\u001b[0m\u001b[0;32m      4\u001b[0m           \"salary:\", others['salary'])\n",
      "\u001b[1;31mKeyError\u001b[0m: 'position'"
     ]
    }
   ],
   "source": [
    "player2('pedri', 18, 'fcb', \n",
    "        salary = None)"
   ]
  },
  {
   "cell_type": "markdown",
   "id": "b6afa0f8",
   "metadata": {},
   "source": [
    "## 8. 进一步混搭参数"
   ]
  },
  {
   "cell_type": "code",
   "execution_count": 49,
   "id": "d84dafd8",
   "metadata": {},
   "outputs": [],
   "source": [
    "def fcb_player(name, age, region, club='FCB', \n",
    "               *args, \n",
    "               game, \n",
    "               **kwargs):\n",
    "    \n",
    "    print(\"name:\", name, \"age:\", age, \"region\", region, \"club:\", club)\n",
    "    \n",
    "    print(\"*args:\", *args)\n",
    "    \n",
    "    print(game)\n",
    "    \n",
    "    print(kwargs['Position'])\n",
    "    print(kwargs['Salary'])"
   ]
  },
  {
   "cell_type": "code",
   "execution_count": 52,
   "id": "47620e36",
   "metadata": {},
   "outputs": [
    {
     "name": "stdout",
     "output_type": "stream",
     "text": [
      "name: pedri age: 18 region spain club: FCB\n",
      "*args: None\n",
      "Liga\n",
      "mid\n",
      "None\n"
     ]
    }
   ],
   "source": [
    "fcb_player('pedri', 18, 'spain', 'FCB', \n",
    "           None, \n",
    "           game='Liga', \n",
    "           Position='mid', Salary=None)"
   ]
  },
  {
   "cell_type": "code",
   "execution_count": 53,
   "id": "f708a4d7",
   "metadata": {},
   "outputs": [
    {
     "ename": "SyntaxError",
     "evalue": "positional argument follows keyword argument (<ipython-input-53-d294311d6d4c>, line 2)",
     "output_type": "error",
     "traceback": [
      "\u001b[1;36m  File \u001b[1;32m\"<ipython-input-53-d294311d6d4c>\"\u001b[1;36m, line \u001b[1;32m2\u001b[0m\n\u001b[1;33m    None,\u001b[0m\n\u001b[1;37m    ^\u001b[0m\n\u001b[1;31mSyntaxError\u001b[0m\u001b[1;31m:\u001b[0m positional argument follows keyword argument\n"
     ]
    }
   ],
   "source": [
    "fcb_player('pedri', 18, 'spain', club='FCB', \n",
    "           None, \n",
    "           game='Liga', \n",
    "           Position='mid', Salary=None)"
   ]
  },
  {
   "cell_type": "code",
   "execution_count": 56,
   "id": "ba5edbed",
   "metadata": {},
   "outputs": [
    {
     "ename": "TypeError",
     "evalue": "fcb_player() got multiple values for argument 'club'",
     "output_type": "error",
     "traceback": [
      "\u001b[1;31m---------------------------------------------------------------------------\u001b[0m",
      "\u001b[1;31mTypeError\u001b[0m                                 Traceback (most recent call last)",
      "\u001b[1;32m<ipython-input-56-28fb388bdfd9>\u001b[0m in \u001b[0;36m<module>\u001b[1;34m\u001b[0m\n\u001b[1;32m----> 1\u001b[1;33m fcb_player('pedri', 18, 'spain',  \n\u001b[0m\u001b[0;32m      2\u001b[0m            \u001b[1;32mNone\u001b[0m\u001b[1;33m,\u001b[0m\u001b[1;33m\u001b[0m\u001b[1;33m\u001b[0m\u001b[0m\n\u001b[0;32m      3\u001b[0m            \u001b[0mgame\u001b[0m\u001b[1;33m=\u001b[0m\u001b[1;34m'Liga'\u001b[0m\u001b[1;33m,\u001b[0m\u001b[1;33m\u001b[0m\u001b[1;33m\u001b[0m\u001b[0m\n\u001b[0;32m      4\u001b[0m            \u001b[0mPosition\u001b[0m\u001b[1;33m=\u001b[0m\u001b[1;34m'mid'\u001b[0m\u001b[1;33m,\u001b[0m \u001b[0mSalary\u001b[0m\u001b[1;33m=\u001b[0m\u001b[1;32mNone\u001b[0m\u001b[1;33m,\u001b[0m\u001b[1;33m\u001b[0m\u001b[1;33m\u001b[0m\u001b[0m\n\u001b[0;32m      5\u001b[0m            club='FCB')\n",
      "\u001b[1;31mTypeError\u001b[0m: fcb_player() got multiple values for argument 'club'"
     ]
    }
   ],
   "source": [
    "fcb_player('pedri', 18, 'spain',  \n",
    "           None, \n",
    "           game='Liga', \n",
    "           Position='mid', Salary=None,\n",
    "           club='FCB')"
   ]
  },
  {
   "cell_type": "markdown",
   "id": "ff76dd65",
   "metadata": {},
   "source": [
    "## 9. 强制位置关键字（Py3.8）\n",
    "- `/` 之前的参数为位置参数，若为关键字输入则报错"
   ]
  },
  {
   "cell_type": "code",
   "execution_count": 69,
   "id": "66754f08",
   "metadata": {},
   "outputs": [],
   "source": [
    "def fcb_player(name, age, /, region,  club, \n",
    "               *, \n",
    "               game, \n",
    "               **kwargs):\n",
    "    \n",
    "    print(\"name:\", name, \"age:\", age, \"region\", region, \"club:\", club)\n",
    "        \n",
    "    print(game)\n",
    "    \n",
    "    print(kwargs['Position'])\n",
    "    print(kwargs['Salary'])"
   ]
  },
  {
   "cell_type": "code",
   "execution_count": 70,
   "id": "9b8432e1",
   "metadata": {},
   "outputs": [
    {
     "name": "stdout",
     "output_type": "stream",
     "text": [
      "name: pedri age: 18 region spain club: FCB\n",
      "Liga\n",
      "mid\n",
      "None\n"
     ]
    }
   ],
   "source": [
    "fcb_player('pedri', 18, 'spain', 'FCB', \n",
    "           game='Liga', \n",
    "           Position='mid', Salary=None)"
   ]
  },
  {
   "cell_type": "code",
   "execution_count": 71,
   "id": "d0ace283",
   "metadata": {},
   "outputs": [
    {
     "ename": "SyntaxError",
     "evalue": "positional argument follows keyword argument (<ipython-input-71-ba45edfed58c>, line 1)",
     "output_type": "error",
     "traceback": [
      "\u001b[1;36m  File \u001b[1;32m\"<ipython-input-71-ba45edfed58c>\"\u001b[1;36m, line \u001b[1;32m1\u001b[0m\n\u001b[1;33m    fcb_player(name='pedri', 18, 'spain', 'FCB',\u001b[0m\n\u001b[1;37m                             ^\u001b[0m\n\u001b[1;31mSyntaxError\u001b[0m\u001b[1;31m:\u001b[0m positional argument follows keyword argument\n"
     ]
    }
   ],
   "source": [
    "fcb_player(name='pedri', 18, 'spain', 'FCB', \n",
    "           game='Liga', \n",
    "           Position='mid', Salary=None)"
   ]
  },
  {
   "cell_type": "markdown",
   "id": "43d5a6e2",
   "metadata": {},
   "source": [
    "## 10. 函数调用 解包列表和元组"
   ]
  },
  {
   "cell_type": "code",
   "execution_count": 73,
   "id": "a30afaa3",
   "metadata": {},
   "outputs": [],
   "source": [
    "def hello(msg, name1, name2, *others):\n",
    "    print(msg, name1, name2, *others)"
   ]
  },
  {
   "cell_type": "code",
   "execution_count": 75,
   "id": "7c6bf170",
   "metadata": {},
   "outputs": [
    {
     "name": "stdout",
     "output_type": "stream",
     "text": [
      "Hello messi pedri dest dejong arujo\n"
     ]
    }
   ],
   "source": [
    "name_list = ['messi', 'pedri', 'dest', 'dejong', 'arujo']\n",
    "hello('Hello', *name_list)"
   ]
  },
  {
   "cell_type": "markdown",
   "id": "0066b5ad",
   "metadata": {},
   "source": [
    "## 11. 函数调用 解包字典"
   ]
  },
  {
   "cell_type": "code",
   "execution_count": 85,
   "id": "118b08a4",
   "metadata": {},
   "outputs": [],
   "source": [
    "def hello2(name, **others):\n",
    "    print(name, others['age'], others['position'])"
   ]
  },
  {
   "cell_type": "code",
   "execution_count": 86,
   "id": "15dada6c",
   "metadata": {},
   "outputs": [
    {
     "name": "stdout",
     "output_type": "stream",
     "text": [
      "messi 33 mid\n"
     ]
    }
   ],
   "source": [
    "dict_player = {'age':33, 'position':'mid'}\n",
    "hello2('messi', **dict_player)"
   ]
  },
  {
   "cell_type": "code",
   "execution_count": null,
   "id": "b27fde74",
   "metadata": {},
   "outputs": [],
   "source": []
  }
 ],
 "metadata": {
  "kernelspec": {
   "display_name": "Python 3",
   "language": "python",
   "name": "python3"
  },
  "language_info": {
   "codemirror_mode": {
    "name": "ipython",
    "version": 3
   },
   "file_extension": ".py",
   "mimetype": "text/x-python",
   "name": "python",
   "nbconvert_exporter": "python",
   "pygments_lexer": "ipython3",
   "version": "3.8.5"
  }
 },
 "nbformat": 4,
 "nbformat_minor": 5
}
