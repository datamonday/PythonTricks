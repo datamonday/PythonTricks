{
 "cells": [
  {
   "cell_type": "markdown",
   "metadata": {},
   "source": [
    "# 1\n",
    "编写程序，生成包含1000个0到100之间的随机整数，并统计每个元素的出现次数。"
   ]
  },
  {
   "cell_type": "code",
   "execution_count": 1,
   "metadata": {},
   "outputs": [
    {
     "data": {
      "text/plain": [
       "{0: 11,\n",
       " 1: 14,\n",
       " 2: 11,\n",
       " 3: 11,\n",
       " 4: 15,\n",
       " 5: 10,\n",
       " 6: 14,\n",
       " 7: 7,\n",
       " 8: 8,\n",
       " 9: 11,\n",
       " 10: 8,\n",
       " 11: 14,\n",
       " 12: 10,\n",
       " 13: 12,\n",
       " 14: 7,\n",
       " 15: 7,\n",
       " 16: 14,\n",
       " 17: 8,\n",
       " 18: 11,\n",
       " 19: 6,\n",
       " 20: 15,\n",
       " 21: 8,\n",
       " 22: 11,\n",
       " 23: 7,\n",
       " 24: 12,\n",
       " 25: 13,\n",
       " 26: 4,\n",
       " 27: 12,\n",
       " 28: 6,\n",
       " 29: 11,\n",
       " 30: 10,\n",
       " 31: 12,\n",
       " 32: 8,\n",
       " 33: 15,\n",
       " 34: 12,\n",
       " 35: 10,\n",
       " 36: 7,\n",
       " 37: 9,\n",
       " 38: 14,\n",
       " 39: 14,\n",
       " 40: 7,\n",
       " 41: 10,\n",
       " 42: 9,\n",
       " 43: 11,\n",
       " 44: 8,\n",
       " 45: 15,\n",
       " 46: 7,\n",
       " 47: 6,\n",
       " 48: 8,\n",
       " 49: 15,\n",
       " 50: 6,\n",
       " 51: 5,\n",
       " 52: 5,\n",
       " 53: 9,\n",
       " 54: 10,\n",
       " 55: 9,\n",
       " 56: 10,\n",
       " 57: 7,\n",
       " 58: 7,\n",
       " 59: 12,\n",
       " 60: 12,\n",
       " 61: 13,\n",
       " 62: 8,\n",
       " 63: 10,\n",
       " 64: 8,\n",
       " 65: 10,\n",
       " 66: 10,\n",
       " 67: 9,\n",
       " 68: 17,\n",
       " 69: 6,\n",
       " 70: 8,\n",
       " 71: 6,\n",
       " 72: 10,\n",
       " 73: 10,\n",
       " 74: 9,\n",
       " 75: 6,\n",
       " 76: 12,\n",
       " 77: 6,\n",
       " 78: 11,\n",
       " 79: 11,\n",
       " 80: 13,\n",
       " 81: 11,\n",
       " 82: 9,\n",
       " 83: 7,\n",
       " 84: 8,\n",
       " 85: 18,\n",
       " 86: 10,\n",
       " 87: 13,\n",
       " 88: 14,\n",
       " 89: 11,\n",
       " 90: 12,\n",
       " 91: 8,\n",
       " 92: 10,\n",
       " 93: 10,\n",
       " 94: 7,\n",
       " 95: 8,\n",
       " 96: 12,\n",
       " 97: 5,\n",
       " 98: 11,\n",
       " 99: 8,\n",
       " 100: 8}"
      ]
     },
     "execution_count": 1,
     "metadata": {},
     "output_type": "execute_result"
    }
   ],
   "source": [
    "import random\n",
    "\n",
    "rand_list = [random.randint(0, 100) for i in range(1000)]\n",
    "\n",
    "unique_rand_list = set(rand_list)\n",
    "unique_dict = {}\n",
    "for i in unique_rand_list:\n",
    "    k = 0\n",
    "    for j in rand_list:\n",
    "        if j == i:\n",
    "            k += 1\n",
    "    unique_dict[i] = k\n",
    "    \n",
    "unique_dict"
   ]
  },
  {
   "cell_type": "markdown",
   "metadata": {},
   "source": [
    "# 2\n",
    "编写程序，生成包含20个随机数的列表，然后将前10个元素升序排列，后10个元素降序排列，并输出结果。"
   ]
  },
  {
   "cell_type": "code",
   "execution_count": 13,
   "metadata": {},
   "outputs": [
    {
     "data": {
      "text/plain": [
       "[9, 12, 34, 38, 43, 57, 85, 98, 98, 100, 92, 89, 65, 60, 52, 51, 31, 20, 5, 3]"
      ]
     },
     "execution_count": 13,
     "metadata": {},
     "output_type": "execute_result"
    }
   ],
   "source": [
    "rand_list = [random.randint(0, 100) for i in range(20)]\n",
    "\n",
    "sorted_list = []\n",
    "sorted_list.extend(sorted(rand_list[:10]))\n",
    "sorted_list.extend(sorted(rand_list[10:], reverse=True))\n",
    "sorted_list"
   ]
  },
  {
   "cell_type": "markdown",
   "metadata": {},
   "source": [
    "# 3\n",
    "编写程序，运行后用户输入4位整数作为年份，判断其是否为闰年。如果年份能被400整除，则为闰年；如果年份能被4整除但不能被100整除也为闰年。"
   ]
  },
  {
   "cell_type": "code",
   "execution_count": 17,
   "metadata": {},
   "outputs": [
    {
     "name": "stdout",
     "output_type": "stream",
     "text": [
      "请输入要判断的年份(四位整数)：\n",
      "2021\n",
      "2021 不是闰年！\n"
     ]
    }
   ],
   "source": [
    "def is_leap_year(year):\n",
    "    year = int(year)\n",
    "    if year < 0:\n",
    "        print(\"请输入正确的年份！\")\n",
    "    elif year % 400 == 0:\n",
    "        print(f\"{year} 是闰年！\")\n",
    "    elif year % 4 == 0 and year % 100 != 0:\n",
    "        print(f\"{year} 是闰年！\")\n",
    "    else:\n",
    "        print(f\"{year} 不是闰年！\")\n",
    "    \n",
    "    \n",
    "year = input(\"请输入要判断的年份(四位整数)：\\n\")\n",
    "is_leap_year(year)"
   ]
  },
  {
   "cell_type": "markdown",
   "metadata": {},
   "source": [
    "# 4 \n",
    "编写程序，实现分段函数计算，如下所示:\n",
    "x\t\t\ty\n",
    "\n",
    "-------------------------------------\n",
    "\n",
    "x < 0\t\t\t0\n",
    "\n",
    "0 <= x < 5\t\tx\n",
    "\n",
    "5 <= x < 10\t\t3x - 5\n",
    "\n",
    "10 <= x < 20\t\t0.5x - 2\n",
    "\n",
    "20 <= x\t\t0"
   ]
  },
  {
   "cell_type": "code",
   "execution_count": 25,
   "metadata": {},
   "outputs": [
    {
     "name": "stdout",
     "output_type": "stream",
     "text": [
      "\n",
      "    分段函数计算\n",
      "    \n"
     ]
    },
    {
     "data": {
      "text/plain": [
       "7.0"
      ]
     },
     "execution_count": 25,
     "metadata": {},
     "output_type": "execute_result"
    }
   ],
   "source": [
    "def piecewise_func(x):\n",
    "    \"\"\"\n",
    "    分段函数计算\n",
    "    \"\"\"\n",
    "    if x < 0:\n",
    "        return 0\n",
    "    elif x >= 5 and x < 10:\n",
    "        return 3 * x - 5\n",
    "    elif x >= 10 and x < 20:\n",
    "        return 0.5 * x - 2\n",
    "    else:\n",
    "        return 0\n",
    "    \n",
    "print(piecewise_func.__doc__)\n",
    "piecewise_func(18)"
   ]
  },
  {
   "cell_type": "markdown",
   "metadata": {},
   "source": [
    "# 5\n",
    "编写程序，用户在命令提示行输入文件名和该文件的编码格式，读入文件，将其转存成UTF-8格式。如果用户没有指定输入文件的编码格式，则使用chardet模块“猜”出其编码格式，用于解码。使用argparse模块解析用户命令提示行输入。"
   ]
  },
  {
   "cell_type": "markdown",
   "metadata": {},
   "source": [
    "# chardet\n",
    "- dectect方法会返回一个字典 \n",
    "- encoding键值即是检测出的编码格式，confidence键值即是检测正确的概率。"
   ]
  },
  {
   "cell_type": "code",
   "execution_count": 26,
   "metadata": {},
   "outputs": [],
   "source": [
    "import chardet"
   ]
  },
  {
   "cell_type": "code",
   "execution_count": 33,
   "metadata": {},
   "outputs": [
    {
     "data": {
      "text/plain": [
       "['PY2',\n",
       " 'PY3',\n",
       " 'UniversalDetector',\n",
       " 'VERSION',\n",
       " '__builtins__',\n",
       " '__cached__',\n",
       " '__doc__',\n",
       " '__file__',\n",
       " '__loader__',\n",
       " '__name__',\n",
       " '__package__',\n",
       " '__path__',\n",
       " '__spec__',\n",
       " '__version__',\n",
       " 'big5freq',\n",
       " 'big5prober',\n",
       " 'chardistribution',\n",
       " 'charsetgroupprober',\n",
       " 'charsetprober',\n",
       " 'codingstatemachine',\n",
       " 'compat',\n",
       " 'cp949prober',\n",
       " 'detect',\n",
       " 'enums',\n",
       " 'escprober',\n",
       " 'escsm',\n",
       " 'eucjpprober',\n",
       " 'euckrfreq',\n",
       " 'euckrprober',\n",
       " 'euctwfreq',\n",
       " 'euctwprober',\n",
       " 'gb2312freq',\n",
       " 'gb2312prober',\n",
       " 'hebrewprober',\n",
       " 'jisfreq',\n",
       " 'jpcntx',\n",
       " 'langbulgarianmodel',\n",
       " 'langcyrillicmodel',\n",
       " 'langgreekmodel',\n",
       " 'langhebrewmodel',\n",
       " 'langthaimodel',\n",
       " 'langturkishmodel',\n",
       " 'latin1prober',\n",
       " 'mbcharsetprober',\n",
       " 'mbcsgroupprober',\n",
       " 'mbcssm',\n",
       " 'sbcharsetprober',\n",
       " 'sbcsgroupprober',\n",
       " 'sjisprober',\n",
       " 'universaldetector',\n",
       " 'utf8prober',\n",
       " 'version']"
      ]
     },
     "execution_count": 33,
     "metadata": {},
     "output_type": "execute_result"
    }
   ],
   "source": [
    "dir(chardet)"
   ]
  },
  {
   "cell_type": "code",
   "execution_count": 36,
   "metadata": {},
   "outputs": [
    {
     "name": "stdout",
     "output_type": "stream",
     "text": [
      "Help on function detect in module chardet:\n",
      "\n",
      "detect(byte_str)\n",
      "    Detect the encoding of the given byte string.\n",
      "    \n",
      "    :param byte_str:     The byte sequence to examine.\n",
      "    :type byte_str:      ``bytes`` or ``bytearray``\n",
      "\n"
     ]
    }
   ],
   "source": [
    "help(chardet.detect)"
   ]
  },
  {
   "cell_type": "code",
   "execution_count": 38,
   "metadata": {},
   "outputs": [
    {
     "name": "stdout",
     "output_type": "stream",
     "text": [
      "The Zen of Python, by Tim Peters\n",
      "\n",
      "Beautiful is better than ugly.\n",
      "Explicit is better than implicit.\n",
      "Simple is better than complex.\n",
      "Complex is better than complicated.\n",
      "Flat is better than nested.\n",
      "Sparse is better than dense.\n",
      "Readability counts.\n",
      "Special cases aren't special enough to break the rules.\n",
      "Although practicality beats purity.\n",
      "Errors should never pass silently.\n",
      "Unless explicitly silenced.\n",
      "In the face of ambiguity, refuse the temptation to guess.\n",
      "There should be one-- and preferably only one --obvious way to do it.\n",
      "Although that way may not be obvious at first unless you're Dutch.\n",
      "Now is better than never.\n",
      "Although never is often better than *right* now.\n",
      "If the implementation is hard to explain, it's a bad idea.\n",
      "If the implementation is easy to explain, it may be a good idea.\n",
      "Namespaces are one honking great idea -- let's do more of those!\n"
     ]
    }
   ],
   "source": [
    "import this"
   ]
  },
  {
   "cell_type": "markdown",
   "metadata": {},
   "source": [
    "# argparse\n",
    "- https://docs.python.org/zh-cn/3/library/argparse.html\n",
    "\n",
    "argparse模块用于命令行选项与参数解析，有如下三个方法：\n",
    "\n",
    "- ArgumentParser() 创建对象\n",
    "- add_argument() 添加参数\n",
    "- parse_args() 解析添加的参数"
   ]
  },
  {
   "cell_type": "code",
   "execution_count": 41,
   "metadata": {},
   "outputs": [
    {
     "name": "stderr",
     "output_type": "stream",
     "text": [
      "usage: ipykernel_launcher.py [-h] name encode\n",
      "ipykernel_launcher.py: error: the following arguments are required: encode\n"
     ]
    },
    {
     "ename": "SystemExit",
     "evalue": "2",
     "output_type": "error",
     "traceback": [
      "An exception has occurred, use %tb to see the full traceback.\n",
      "\u001b[1;31mSystemExit\u001b[0m\u001b[1;31m:\u001b[0m 2\n"
     ]
    }
   ],
   "source": [
    "import chardet\n",
    "import argparse\n",
    "\n",
    "parser=argparse.ArgumentParser(description = 'change encoding')\n",
    "parser.add_argument('name', default = 'file1.txt', help = 'file name')\n",
    "parser.add_argument('encode', default = 'utf-8', help = 'encoding method')\n",
    "args=parser.parse_args()\n",
    "\n",
    "\n",
    "with open(args.name, 'rb') as f:\n",
    "    file_read = f.read()\n",
    "    if not args.encode:\n",
    "        args.encode = chardet.detect(file_read)['encoding']\n",
    "    # 打印原编码格式\n",
    "    print(\"初始编码格式为：\")\n",
    "    print(args.encode)\n",
    "    \n",
    "print(\"args.name：\", args.name)\n",
    "# 以原编码格式打开\n",
    "f = open(args.name, \"r\", encoding=args.encode)      \n",
    "text=f.read()\n",
    "f.close()\n",
    "\n",
    "# 以utf-8编码格式打开\n",
    "f = open(args.name, 'w', encoding='utf-8')         \n",
    "f.write(text)\n",
    "f.close()\n",
    "\n",
    "# 输出新的编码格式以检查是否转换成功\n",
    "with open(args.name, 'rb') as f: \n",
    "    print(\"新的编码格式为：\")\n",
    "    print(chardet.detect(f.read())['encoding'])\n",
    "    \n",
    "# 命令行运行\n",
    "# python test5.py \"file1.txt\" \"utf-8\"\n",
    "\n",
    "# 输出：\n",
    "\n",
    "\"\"\"\n",
    "初始编码格式为：\n",
    "utf-8\n",
    "args.name： file1.txt\n",
    "新的编码格式为：\n",
    "ascii\n",
    "\"\"\""
   ]
  },
  {
   "cell_type": "markdown",
   "metadata": {},
   "source": [
    "命令行运行：\n",
    "- `python test5.py \"file1.txt\" \"utf-8\"`"
   ]
  },
  {
   "cell_type": "code",
   "execution_count": null,
   "metadata": {},
   "outputs": [],
   "source": []
  }
 ],
 "metadata": {
  "kernelspec": {
   "display_name": "Python 3",
   "language": "python",
   "name": "python3"
  },
  "language_info": {
   "codemirror_mode": {
    "name": "ipython",
    "version": 3
   },
   "file_extension": ".py",
   "mimetype": "text/x-python",
   "name": "python",
   "nbconvert_exporter": "python",
   "pygments_lexer": "ipython3",
   "version": "3.8.5"
  }
 },
 "nbformat": 4,
 "nbformat_minor": 4
}
