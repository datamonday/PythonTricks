{
 "cells": [
  {
   "attachments": {},
   "cell_type": "markdown",
   "metadata": {},
   "source": [
    "# 1\n",
    "编写函数，接收一个字符串，分别统计大写字母、小写字母、数字、其他字符的个数，并以元组的形式返回结果。"
   ]
  },
  {
   "cell_type": "code",
   "execution_count": 1,
   "metadata": {},
   "outputs": [
    {
     "name": "stdout",
     "output_type": "stream",
     "text": [
      "False\n",
      "False\n",
      "False\n",
      "True\n",
      "False\n",
      "False\n",
      "False\n"
     ]
    }
   ],
   "source": [
    "str = \"hello world\"\n",
    "print(str.isalnum()) # 判断所有字符都是数字或者字母\n",
    "print(str.isalpha()) # 判断所有字符都是字母\n",
    "print(str.isdigit()) # 判断所有字符都是数字\n",
    "print(str.islower()) # 判断所有字符都是小写\n",
    "print(str.isupper()) # 判断所有字符都是大写\n",
    "print(str.istitle()) # 判断所有单词都是首字母大写，像标题\n",
    "print(str.isspace()) # 判断所有字符都是空白字符、\\t、\\n、\\r"
   ]
  },
  {
   "cell_type": "code",
   "execution_count": 6,
   "metadata": {},
   "outputs": [],
   "source": [
    "def char_type_statistic(string):\n",
    "    stac_dict = {}\n",
    "    stac_dict[\"upper_letter\"] = 0\n",
    "    stac_dict[\"lower_letter\"] = 0\n",
    "    stac_dict[\"digit\"] = 0\n",
    "    stac_dict[\"others\"] = 0\n",
    "    \n",
    "    for elem in string:\n",
    "        if elem.isupper():\n",
    "            stac_dict[\"upper_letter\"] += 1\n",
    "        \n",
    "        elif elem.islower():\n",
    "            stac_dict[\"lower_letter\"] += 1\n",
    "            \n",
    "        elif elem.isdigit():\n",
    "            stac_dict[\"digit\"] += 1\n",
    "            \n",
    "        else:\n",
    "            stac_dict[\"others\"] += 1\n",
    "    \n",
    "    return stac_dict"
   ]
  },
  {
   "cell_type": "code",
   "execution_count": 10,
   "metadata": {},
   "outputs": [
    {
     "name": "stdout",
     "output_type": "stream",
     "text": [
      "Please input string: \n",
      "Hello, World!\n",
      "{'upper_letter': 2, 'lower_letter': 8, 'digit': 0, 'others': 3}\n"
     ]
    }
   ],
   "source": [
    "input_str = input(\"Please input string: \\n\")\n",
    "stac_dict = char_type_statistic(input_str)\n",
    "print(stac_dict)"
   ]
  },
  {
   "attachments": {},
   "cell_type": "markdown",
   "metadata": {},
   "source": [
    "# 2\n",
    "编写函数，可以接收任意多个整数并输出其中的最大值和所有整数之和。"
   ]
  },
  {
   "cell_type": "code",
   "execution_count": 14,
   "metadata": {},
   "outputs": [
    {
     "data": {
      "text/plain": [
       "True"
      ]
     },
     "execution_count": 14,
     "metadata": {},
     "output_type": "execute_result"
    }
   ],
   "source": [
    "a = [2,3,4]\n",
    "type(a) == list"
   ]
  },
  {
   "cell_type": "code",
   "execution_count": 24,
   "metadata": {},
   "outputs": [],
   "source": [
    "def max_sum_of_int_list(input_list):\n",
    "    sum_elem = 0\n",
    "    \n",
    "    # 从键盘输入的值\n",
    "    input_list = input_list.split(\",\")\n",
    "    max_elem = int(input_list[0])\n",
    "    for elem in input_list:\n",
    "            sum_elem += int(elem)\n",
    "            if int(elem) > max_elem:\n",
    "                max_elem = int(elem)\n",
    "                \n",
    "    return sum_elem, max_elem"
   ]
  },
  {
   "cell_type": "code",
   "execution_count": 28,
   "metadata": {},
   "outputs": [
    {
     "name": "stdout",
     "output_type": "stream",
     "text": [
      "Please input number list(split by ,):\n",
      "1,2,3,4,5,6,7,8,9,10\n",
      "Sum of input: 55\n",
      "Max of input: 10\n"
     ]
    }
   ],
   "source": [
    "input_list = input(\"Please input number list(split by ,):\\n\")\n",
    "sum_elem, max_elem = max_sum_of_int_list(input_list)\n",
    "print(\"Sum of input:\", sum_elem)\n",
    "print(\"Max of input:\", max_elem)"
   ]
  },
  {
   "cell_type": "code",
   "execution_count": 29,
   "metadata": {},
   "outputs": [
    {
     "name": "stdout",
     "output_type": "stream",
     "text": [
      "Please input number list(split by ,):\n",
      "1,2,3,4,5,6,7,8,9,10\n"
     ]
    },
    {
     "data": {
      "text/plain": [
       "False"
      ]
     },
     "execution_count": 29,
     "metadata": {},
     "output_type": "execute_result"
    }
   ],
   "source": [
    "input_list = input(\"Please input number list(split by ,):\\n\")\n",
    "type(input_list) == int"
   ]
  },
  {
   "attachments": {},
   "cell_type": "markdown",
   "metadata": {},
   "source": [
    "# 3\n",
    "编写函数，模拟内置函数sorted()。（你需要先读内置函数 sorted() 的关方文档，搞清楚它的输入参数和输出）"
   ]
  },
  {
   "cell_type": "code",
   "execution_count": 30,
   "metadata": {},
   "outputs": [],
   "source": [
    "def bubble_sort(arry, reverse=True):\n",
    "    \"\"\"\n",
    "    sorted()的内部实现类似于排序算法，以冒泡排序为例进行重写\n",
    "    sorted(iterable, cmp=None, key=None, reverse=False)\n",
    "    ----\n",
    "    param arry:输入数组\n",
    "    param reverse:降序排列\n",
    "    \"\"\"\n",
    "    len_arry = len(arry)\n",
    "    for i in range(len_arry):\n",
    "        for j in range(1, len_arry - i):\n",
    "            if arry[j-1] > arry[j]:\n",
    "                # 交换\n",
    "                arry[j-1], arry[j] = arry[j], arry[j-1]\n",
    "            else:\n",
    "                pass\n",
    "    \n",
    "    if reverse:\n",
    "        return arry\n",
    "    else:\n",
    "        # .reverse()方法对原数组操作，不带返回值，所以不能直接return 该语句！\n",
    "        arry.reverse()\n",
    "        return arry"
   ]
  },
  {
   "cell_type": "code",
   "execution_count": 31,
   "metadata": {},
   "outputs": [
    {
     "data": {
      "text/plain": [
       "[1, 1, 1, 2, 3, 4, 5]"
      ]
     },
     "execution_count": 31,
     "metadata": {},
     "output_type": "execute_result"
    }
   ],
   "source": [
    "arry = [5,2,1,1,3,1,4]\n",
    "bubble_sort(arry)"
   ]
  },
  {
   "attachments": {},
   "cell_type": "markdown",
   "metadata": {},
   "source": [
    "# 4\n",
    "\n",
    "以字典为基础建立一个通讯录，向字典中添加和删除通讯人（名字、电话、email、工作单位等），查询某个人的信息，然后输出通讯录中所有人的信息。"
   ]
  },
  {
   "cell_type": "code",
   "execution_count": 37,
   "metadata": {},
   "outputs": [
    {
     "data": {
      "text/plain": [
       "{'a': [1], 'b': '3'}"
      ]
     },
     "execution_count": 37,
     "metadata": {},
     "output_type": "execute_result"
    }
   ],
   "source": [
    "a = {'a': [1], 'b': 2, 'b': '3'}\n",
    "a"
   ]
  },
  {
   "cell_type": "code",
   "execution_count": 39,
   "metadata": {},
   "outputs": [
    {
     "data": {
      "text/plain": [
       "{'a': [1, 2], 'b': '3'}"
      ]
     },
     "execution_count": 39,
     "metadata": {},
     "output_type": "execute_result"
    }
   ],
   "source": [
    "a['a'].append(2)\n",
    "a"
   ]
  },
  {
   "cell_type": "code",
   "execution_count": 42,
   "metadata": {},
   "outputs": [
    {
     "data": {
      "text/plain": [
       "False"
      ]
     },
     "execution_count": 42,
     "metadata": {},
     "output_type": "execute_result"
    }
   ],
   "source": [
    "3 in a['a']"
   ]
  },
  {
   "cell_type": "code",
   "execution_count": 50,
   "metadata": {},
   "outputs": [
    {
     "name": "stdout",
     "output_type": "stream",
     "text": [
      "1\n"
     ]
    }
   ],
   "source": [
    "for idx, i in enumerate(a['a']):\n",
    "    if i == 2:\n",
    "        print(idx)"
   ]
  },
  {
   "cell_type": "code",
   "execution_count": 53,
   "metadata": {},
   "outputs": [
    {
     "data": {
      "text/plain": [
       "2"
      ]
     },
     "execution_count": 53,
     "metadata": {},
     "output_type": "execute_result"
    }
   ],
   "source": [
    "a['a'][1]"
   ]
  },
  {
   "cell_type": "code",
   "execution_count": 68,
   "metadata": {},
   "outputs": [
    {
     "name": "stdout",
     "output_type": "stream",
     "text": [
      "(('a', [1, 2]),)\n",
      "(('b', '3'),)\n"
     ]
    }
   ],
   "source": [
    "for keys_values in zip(a.items()):\n",
    "    print(keys_values)"
   ]
  },
  {
   "cell_type": "code",
   "execution_count": 98,
   "metadata": {},
   "outputs": [],
   "source": [
    "class Concat:\n",
    "    def __init__(self):\n",
    "        self.dict = {}\n",
    "        self.dict[\"name\"] = []\n",
    "        self.dict[\"phone\"] = []\n",
    "        self.dict[\"email\"] = []\n",
    "        self.dict[\"address\"] = []\n",
    "        \n",
    "    def get_idx_by_name(self, target):\n",
    "        \"\"\"\n",
    "        为了方便删除和查询信息，定义该函数实现根据name返回索引的功能\n",
    "        \"\"\"\n",
    "        for idx, name in enumerate(self.dict['name']):\n",
    "            if name == target:\n",
    "                return idx\n",
    "        \n",
    "    def add(self, name, phone, email, address):\n",
    "        # 防止重复添加\n",
    "        if name not in self.dict[\"name\"]:\n",
    "            self.dict[\"name\"].append(name)\n",
    "            self.dict[\"phone\"].append(phone)\n",
    "            self.dict[\"email\"].append(email)\n",
    "            self.dict[\"address\"].append(address)\n",
    "        else:\n",
    "            print(f\"{name} information has existed!\")\n",
    "    \n",
    "    def check(self, name):\n",
    "        if name in self.dict[\"name\"]:\n",
    "            idx = self.get_idx_by_name(name)\n",
    "            print(\"name:    \", self.dict[\"name\"][idx])\n",
    "            print(\"phone:   \", self.dict[\"phone\"][idx])\n",
    "            print(\"email:   \", self.dict[\"email\"][idx])\n",
    "            print(\"address: \", self.dict[\"address\"][idx])\n",
    "        else:\n",
    "            print(f\"None of {name} information!\")\n",
    "    \n",
    "    def delete(self, name):\n",
    "        if name in self.dict[\"name\"]:\n",
    "            idx = self.get_idx_by_name(name)\n",
    "            del self.dict[\"name\"][idx]\n",
    "            del self.dict[\"phone\"][idx]\n",
    "            del self.dict[\"email\"][idx]\n",
    "            del self.dict[\"address\"][idx]\n",
    "            \n",
    "        else:\n",
    "            print(f\"None of {name} information!\")\n",
    "    \n",
    "    def show_all_info(self):\n",
    "        for keys_values in zip(self.dict.items()):\n",
    "            print(keys_values)"
   ]
  },
  {
   "cell_type": "code",
   "execution_count": 99,
   "metadata": {},
   "outputs": [
    {
     "name": "stdout",
     "output_type": "stream",
     "text": [
      "(('name', []),)\n",
      "(('phone', []),)\n",
      "(('email', []),)\n",
      "(('address', []),)\n"
     ]
    }
   ],
   "source": [
    "concat = Concat()\n",
    "concat.show_all_info()"
   ]
  },
  {
   "cell_type": "code",
   "execution_count": 100,
   "metadata": {},
   "outputs": [
    {
     "name": "stdout",
     "output_type": "stream",
     "text": [
      "(('name', ['messi']),)\n",
      "(('phone', [10]),)\n",
      "(('email', ['fcb_messi@fcb.com']),)\n",
      "(('address', ['bacelona']),)\n"
     ]
    }
   ],
   "source": [
    "concat.add(\"messi\", 10, \"fcb_messi@fcb.com\", \"bacelona\")\n",
    "concat.show_all_info()"
   ]
  },
  {
   "cell_type": "code",
   "execution_count": 101,
   "metadata": {},
   "outputs": [
    {
     "name": "stdout",
     "output_type": "stream",
     "text": [
      "(('name', ['messi', 'pedri']),)\n",
      "(('phone', [10, 16]),)\n",
      "(('email', ['fcb_messi@fcb.com', 'fcb_pedri@fcb.com']),)\n",
      "(('address', ['bacelona', 'bacelona']),)\n"
     ]
    }
   ],
   "source": [
    "concat.add(\"pedri\", 16, \"fcb_pedri@fcb.com\", \"bacelona\")\n",
    "concat.show_all_info()"
   ]
  },
  {
   "cell_type": "code",
   "execution_count": 102,
   "metadata": {},
   "outputs": [
    {
     "name": "stdout",
     "output_type": "stream",
     "text": [
      "(('name', ['messi', 'pedri', 'dest']),)\n",
      "(('phone', [10, 16, 2]),)\n",
      "(('email', ['fcb_messi@fcb.com', 'fcb_pedri@fcb.com', 'fcb_dest@fcb.com']),)\n",
      "(('address', ['bacelona', 'bacelona', 'bacelona']),)\n"
     ]
    }
   ],
   "source": [
    "concat.add(\"dest\", 2, \"fcb_dest@fcb.com\", \"bacelona\")\n",
    "concat.show_all_info()"
   ]
  },
  {
   "cell_type": "code",
   "execution_count": 103,
   "metadata": {},
   "outputs": [
    {
     "name": "stdout",
     "output_type": "stream",
     "text": [
      "name:     messi\n",
      "phone:    10\n",
      "email:    fcb_messi@fcb.com\n",
      "address:  bacelona\n"
     ]
    }
   ],
   "source": [
    "concat.check(\"messi\")"
   ]
  },
  {
   "cell_type": "code",
   "execution_count": 104,
   "metadata": {},
   "outputs": [
    {
     "name": "stdout",
     "output_type": "stream",
     "text": [
      "(('name', ['messi', 'pedri']),)\n",
      "(('phone', [10, 16]),)\n",
      "(('email', ['fcb_messi@fcb.com', 'fcb_pedri@fcb.com']),)\n",
      "(('address', ['bacelona', 'bacelona']),)\n"
     ]
    }
   ],
   "source": [
    "concat.delete(\"dest\")\n",
    "concat.show_all_info()"
   ]
  },
  {
   "attachments": {},
   "cell_type": "markdown",
   "metadata": {},
   "source": [
    "# 5\n",
    "用生成器的方式计算任意起止范围内质数的和。质数又称素数，是大于1的自然数，除了1和它本身外，不能被其他自然数整除。"
   ]
  },
  {
   "cell_type": "markdown",
   "metadata": {},
   "source": [
    "- generator其实就是算法，它不会一次性产生全部数据，而是根据调用的次数，逐步向内存写入数据。\n",
    "- primes本身是生成器函数， primes()就是一个生成器，它自身不储存数据，只储存生成数据的算法。 "
   ]
  },
  {
   "cell_type": "code",
   "execution_count": 198,
   "metadata": {},
   "outputs": [],
   "source": [
    "from math import sqrt\n",
    "\n",
    "# 判断是否为素数\n",
    "def is_prime(n):\n",
    "    if n <= 1:\n",
    "        return False\n",
    "    elif n >= 2:\n",
    "        # 开平方，减少循环次数\n",
    "        sqrt_n = int(sqrt(n))        \n",
    "        for j in range(2, sqrt_n + 1):\n",
    "            if n % j == 0:\n",
    "                return False\n",
    "\n",
    "        return True\n",
    "\n",
    "# 生成器函数\n",
    "def generator_prime(n):\n",
    "    while True:\n",
    "        if is_prime(n):\n",
    "            yield n\n",
    "            \n",
    "        n += 1\n",
    "\n",
    "# 对指定区间内的素数求和\n",
    "def sum_of_prime_by_iter(start, end):\n",
    "    sum_prime = 0\n",
    "    list_prime = []\n",
    "    \n",
    "    for number in generator_prime(start):\n",
    "        # 生成器不会停止，所以需要添加循环终止条件\n",
    "        if number <= end:\n",
    "            sum_prime += number\n",
    "            list_prime.append(number)\n",
    "        else:\n",
    "            return sum_prime, list_prime         "
   ]
  },
  {
   "cell_type": "code",
   "execution_count": 199,
   "metadata": {},
   "outputs": [
    {
     "data": {
      "text/plain": [
       "True"
      ]
     },
     "execution_count": 199,
     "metadata": {},
     "output_type": "execute_result"
    }
   ],
   "source": [
    "is_prime(7)"
   ]
  },
  {
   "cell_type": "code",
   "execution_count": 200,
   "metadata": {},
   "outputs": [
    {
     "name": "stdout",
     "output_type": "stream",
     "text": [
      "sum:   1161\n",
      "prime: [2, 3, 5, 7, 11, 13, 17, 19, 23, 29, 31, 37, 41, 43, 47, 53, 59, 61, 67, 71, 73, 79, 83, 89, 97, 101]\n"
     ]
    }
   ],
   "source": [
    "sum_prime, list_prime = sum_of_prime_by_iter(2, 101)\n",
    "print(\"sum:  \", sum_prime)\n",
    "print(\"prime:\", list_prime) "
   ]
  }
 ],
 "metadata": {
  "kernelspec": {
   "display_name": "Python 3",
   "language": "python",
   "name": "python3"
  },
  "language_info": {
   "codemirror_mode": {
    "name": "ipython",
    "version": 3
   },
   "file_extension": ".py",
   "mimetype": "text/x-python",
   "name": "python",
   "nbconvert_exporter": "python",
   "pygments_lexer": "ipython3",
   "version": "3.8.5"
  }
 },
 "nbformat": 4,
 "nbformat_minor": 4
}
