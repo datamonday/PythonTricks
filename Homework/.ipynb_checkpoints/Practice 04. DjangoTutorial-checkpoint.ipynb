{
 "cells": [
  {
   "attachments": {},
   "cell_type": "markdown",
   "id": "e0ab4f08",
   "metadata": {},
   "source": [
    "# Practice Content\n",
    "\n",
    "将学到的Python知识用于实践：本次实验使用Django\n",
    "\n",
    "使用Python 3编写Django程序！\n",
    "\n",
    "按照如下链接，一步一步学用 Django。最终完成 Django tutorial里的工程项目\n",
    "\n",
    "https://docs.djangoproject.com/en/2.2/\n",
    "\n",
    "https://docs.djangoproject.com/zh-hans/2.2/\n",
    "\n",
    "\n",
    "也就是说，按照以下链接的顺序\n",
    "https://docs.djangoproject.com/en/2.2/intro/tutorial01/\n",
    "\n",
    "https://docs.djangoproject.com/en/2.2/intro/tutorial02/\n",
    "\n",
    "https://docs.djangoproject.com/en/2.2/intro/tutorial03/\n",
    "\n",
    "…\n",
    "\n",
    "把 tutorial 里的工程项目在自己的电脑上实现一遍!\n",
    "\n",
    "---\n",
    "Django是一个很棒的Web应用框架，由Python写成\n",
    "\n",
    "Django使得开发复杂的、数据库驱动的Web应用变得简单\n",
    "\n",
    "Django注重组件的重用性和可插拔性，敏捷开发和DRY法则（Don't Repeat Yourself）\n",
    "\n",
    "https://www.djangoproject.com/\n",
    "\n",
    "https://zh.wikipedia.org/wiki/Django\n",
    "\n",
    "如果你在完成了Django tutorial之后，对Django还想了解更多，以下是一些资源：\n",
    "\n",
    "Don’t reinvent the wheel! 每次在打算自己实现一个Django App之前，都先找一找，看看是不是已经有现成的了。以下这个网站是索引，值得收藏：\n",
    "\n",
    "https://djangopackages.org/\n",
    "\n",
    "https://djangopackages.org/grids/"
   ]
  },
  {
   "attachments": {},
   "cell_type": "markdown",
   "id": "0efb2ef6",
   "metadata": {},
   "source": [
    "## 快速学习HTML, CSS, JavaScript, jQuery等知识\n",
    "\n",
    "https://www.w3schools.com/\n",
    "\n",
    "http://www.w3school.com.cn/\n",
    "\n",
    "## Booststrap\n",
    "\n",
    "不要自己从头写CSS。使用Bootstrap：\n",
    "\n",
    "http://getbootstrap.com/\n",
    "\n",
    "## PostgreSQL!\n",
    "\n",
    "用真正的关系数据库代替SQLite。开源的PostgreSQL是个好选择\n",
    "\n",
    "它的数据库管理系统图形界面：pgAdmin\n",
    "\n",
    "## 高阶技巧\n",
    "进阶可看一本关于Django的书：\n",
    "\n",
    "《Two Scoops of Django: Best Practices for Django》\n",
    "\n",
    "https://www.twoscoopspress.com/\n",
    "\n",
    "如果阅读和Django有关的书籍，注意要选择使用最新Django版本的书。比如，现在阅读有关Django 1.5的书没有意义，因为Django 1.5已经过时了"
   ]
  }
 ],
 "metadata": {
  "kernelspec": {
   "display_name": "Python 3",
   "language": "python",
   "name": "python3"
  },
  "language_info": {
   "codemirror_mode": {
    "name": "ipython",
    "version": 3
   },
   "file_extension": ".py",
   "mimetype": "text/x-python",
   "name": "python",
   "nbconvert_exporter": "python",
   "pygments_lexer": "ipython3",
   "version": "3.8.8"
  }
 },
 "nbformat": 4,
 "nbformat_minor": 5
}
