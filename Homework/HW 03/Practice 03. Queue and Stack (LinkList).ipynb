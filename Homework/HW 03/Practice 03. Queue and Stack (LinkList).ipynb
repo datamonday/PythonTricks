{
 "cells": [
  {
   "cell_type": "markdown",
   "id": "ee5fec62",
   "metadata": {},
   "source": [
    "# Practice Content\n",
    "\n",
    "编写如下两个程序。程序源文件名为test1.py、test2.py。\n",
    "\n",
    "1. 编写代码，实现一个栈（Stack）类。栈是只能在一端插入和删除数据的序列，它按照先进后出的原则存储数据，先进入的数据被压入栈底，最后的数据在栈顶，需要读数据的时候从栈顶开始弹出数据，最后一个数据被第一个读出来\n",
    "\n",
    "---\n",
    "学习 pickle 和 unittest 两个模块，并在自己写的程序test1.py、test2.py中使用这两个模块\n",
    "有兴趣的同学还可以学用 shelve 模块"
   ]
  },
  {
   "attachments": {
    "image.png": {
     "image/png": "[encoded data removed]"
    }
   },
   "cell_type": "markdown",
   "id": "be4596bd",
   "metadata": {},
   "source": [
    "## 1. Stack class\n",
    "![image.png](attachment:image.png)"
   ]
  },
  {
   "cell_type": "markdown",
   "id": "fa6c6e4d",
   "metadata": {},
   "source": [
    "### 1.1 基本概念\n",
    "1. 栈（Stack）与队列（Queue）是两种基本的数据结构，同为容器类型。两者的区别在于：栈为后进先出，对列为先进先出。\n",
    "\n",
    "2. 栈与队列没有查询某一位置元素的操作，但它们是按顺序排列的。\n",
    "\n",
    "3. 在Python中，可以使用list实现栈，因为list是线性数组，在末尾插入和删除一个元素所使用的的时间均为 $O(1)$。\n",
    "\n",
    "4. 也可以使用链表实现。\n",
    "\n",
    "---\n",
    "### 1.2 基本操作\n",
    "\n",
    "1. 初始化 init\n",
    "2. 入栈 push\n",
    "3. 出栈 pop\n",
    "4. 判断栈是否为空 is_empty\n",
    "5. 获取栈顶元素 top\n",
    "6. 获取栈的容量 size\n",
    "7. 打印栈中元素 elem\n",
    "8. 清空栈 empty\n",
    "9. 销毁栈 destroy\n",
    "\n",
    "---\n",
    "### 1.3 List 实现 栈"
   ]
  },
  {
   "cell_type": "code",
   "execution_count": 1,
   "id": "6d707a2b",
   "metadata": {},
   "outputs": [],
   "source": [
    "class Stack:\n",
    "    def __init__(self):\n",
    "        self.stack = []\n",
    "        \n",
    "    def push(self, value):\n",
    "        self.stack.append(value)\n",
    "    \n",
    "    def pop(self):\n",
    "        if len(self.stack):\n",
    "            self.stack.pop()\n",
    "        else:\n",
    "            raise LookupError(\"Stack is empty now!\")\n",
    "    \n",
    "    def is_empty(self):\n",
    "        if len(self.stack):\n",
    "            return False\n",
    "        else:\n",
    "            return True\n",
    "        \n",
    "    def get_top_elem(self):\n",
    "        return self.stack[0]\n",
    "    \n",
    "    def get_size(self):\n",
    "        return len(self.stack)\n",
    "    \n",
    "    def display_elem(self):\n",
    "        print(self.stack)\n",
    "        \n",
    "    def empty(self):\n",
    "        self.stack = []\n",
    "        \n",
    "    def destroy(self):\n",
    "        del self.stack"
   ]
  },
  {
   "cell_type": "code",
   "execution_count": 2,
   "id": "b603a979",
   "metadata": {},
   "outputs": [],
   "source": [
    "new_stack = Stack()"
   ]
  },
  {
   "cell_type": "code",
   "execution_count": 3,
   "id": "f13704bf",
   "metadata": {},
   "outputs": [],
   "source": [
    "new_stack.push(1)"
   ]
  },
  {
   "cell_type": "code",
   "execution_count": 4,
   "id": "1863f1da",
   "metadata": {},
   "outputs": [],
   "source": [
    "new_stack.push(2)"
   ]
  },
  {
   "cell_type": "code",
   "execution_count": 5,
   "id": "0d440725",
   "metadata": {},
   "outputs": [],
   "source": [
    "new_stack.push(3)"
   ]
  },
  {
   "cell_type": "code",
   "execution_count": 6,
   "id": "9e164689",
   "metadata": {},
   "outputs": [],
   "source": [
    "new_stack.pop()"
   ]
  },
  {
   "cell_type": "code",
   "execution_count": 7,
   "id": "6f0ac4df",
   "metadata": {},
   "outputs": [
    {
     "data": {
      "text/plain": [
       "False"
      ]
     },
     "execution_count": 7,
     "metadata": {},
     "output_type": "execute_result"
    }
   ],
   "source": [
    "new_stack.is_empty()"
   ]
  },
  {
   "cell_type": "code",
   "execution_count": 8,
   "id": "eff5f999",
   "metadata": {},
   "outputs": [
    {
     "data": {
      "text/plain": [
       "1"
      ]
     },
     "execution_count": 8,
     "metadata": {},
     "output_type": "execute_result"
    }
   ],
   "source": [
    "new_stack.get_top_elem()"
   ]
  },
  {
   "cell_type": "code",
   "execution_count": 9,
   "id": "9187614b",
   "metadata": {},
   "outputs": [
    {
     "data": {
      "text/plain": [
       "2"
      ]
     },
     "execution_count": 9,
     "metadata": {},
     "output_type": "execute_result"
    }
   ],
   "source": [
    "new_stack.get_size()"
   ]
  },
  {
   "cell_type": "code",
   "execution_count": 10,
   "id": "27c85ac5",
   "metadata": {},
   "outputs": [
    {
     "name": "stdout",
     "output_type": "stream",
     "text": [
      "[1, 2]\n"
     ]
    }
   ],
   "source": [
    "new_stack.display_elem()"
   ]
  },
  {
   "cell_type": "code",
   "execution_count": 11,
   "id": "7ed82eb5",
   "metadata": {},
   "outputs": [],
   "source": [
    "new_stack.empty()"
   ]
  },
  {
   "cell_type": "code",
   "execution_count": 12,
   "id": "7382e986",
   "metadata": {},
   "outputs": [],
   "source": [
    "new_stack.destroy()"
   ]
  },
  {
   "cell_type": "code",
   "execution_count": 13,
   "id": "adbf4357",
   "metadata": {},
   "outputs": [
    {
     "data": {
      "text/plain": [
       "<__main__.Stack at 0x1a1ae98c370>"
      ]
     },
     "execution_count": 13,
     "metadata": {},
     "output_type": "execute_result"
    }
   ],
   "source": [
    "new_stack"
   ]
  },
  {
   "cell_type": "code",
   "execution_count": 14,
   "id": "2a642ea9",
   "metadata": {},
   "outputs": [
    {
     "ename": "AttributeError",
     "evalue": "'Stack' object has no attribute 'stack'",
     "output_type": "error",
     "traceback": [
      "\u001b[1;31m---------------------------------------------------------------------------\u001b[0m",
      "\u001b[1;31mAttributeError\u001b[0m                            Traceback (most recent call last)",
      "\u001b[1;32m<ipython-input-14-16ead85fdd3c>\u001b[0m in \u001b[0;36m<module>\u001b[1;34m\u001b[0m\n\u001b[1;32m----> 1\u001b[1;33m \u001b[0mnew_stack\u001b[0m\u001b[1;33m.\u001b[0m\u001b[0mpush\u001b[0m\u001b[1;33m(\u001b[0m\u001b[1;36m1\u001b[0m\u001b[1;33m)\u001b[0m\u001b[1;33m\u001b[0m\u001b[1;33m\u001b[0m\u001b[0m\n\u001b[0m",
      "\u001b[1;32m<ipython-input-1-bda02de92406>\u001b[0m in \u001b[0;36mpush\u001b[1;34m(self, value)\u001b[0m\n\u001b[0;32m      4\u001b[0m \u001b[1;33m\u001b[0m\u001b[0m\n\u001b[0;32m      5\u001b[0m     \u001b[1;32mdef\u001b[0m \u001b[0mpush\u001b[0m\u001b[1;33m(\u001b[0m\u001b[0mself\u001b[0m\u001b[1;33m,\u001b[0m \u001b[0mvalue\u001b[0m\u001b[1;33m)\u001b[0m\u001b[1;33m:\u001b[0m\u001b[1;33m\u001b[0m\u001b[1;33m\u001b[0m\u001b[0m\n\u001b[1;32m----> 6\u001b[1;33m         \u001b[0mself\u001b[0m\u001b[1;33m.\u001b[0m\u001b[0mstack\u001b[0m\u001b[1;33m.\u001b[0m\u001b[0mappend\u001b[0m\u001b[1;33m(\u001b[0m\u001b[0mvalue\u001b[0m\u001b[1;33m)\u001b[0m\u001b[1;33m\u001b[0m\u001b[1;33m\u001b[0m\u001b[0m\n\u001b[0m\u001b[0;32m      7\u001b[0m \u001b[1;33m\u001b[0m\u001b[0m\n\u001b[0;32m      8\u001b[0m     \u001b[1;32mdef\u001b[0m \u001b[0mpop\u001b[0m\u001b[1;33m(\u001b[0m\u001b[0mself\u001b[0m\u001b[1;33m)\u001b[0m\u001b[1;33m:\u001b[0m\u001b[1;33m\u001b[0m\u001b[1;33m\u001b[0m\u001b[0m\n",
      "\u001b[1;31mAttributeError\u001b[0m: 'Stack' object has no attribute 'stack'"
     ]
    }
   ],
   "source": [
    "# 销毁之后，无法进行栈的操作\n",
    "new_stack.push(1)"
   ]
  },
  {
   "cell_type": "markdown",
   "id": "c01005fa",
   "metadata": {},
   "source": [
    "### `->` marks the return function annotation\n",
    "\n",
    "These are function annotations covered in PEP 3107(https://www.python.org/dev/peps/pep-3107/)."
   ]
  },
  {
   "cell_type": "code",
   "execution_count": 15,
   "id": "f98b6f21",
   "metadata": {},
   "outputs": [
    {
     "data": {
      "text/plain": [
       "{'m': 'in KG', 'v': 'in M/S', 'return': 'Joules'}"
      ]
     },
     "execution_count": 15,
     "metadata": {},
     "output_type": "execute_result"
    }
   ],
   "source": [
    "def kinetic_energy(m:'in KG', v:'in M/S')->'Joules': \n",
    "    \n",
    "    return 1/2*m*v**2\n",
    "\n",
    "kinetic_energy.__annotations__"
   ]
  },
  {
   "cell_type": "code",
   "execution_count": 18,
   "id": "94c50dde",
   "metadata": {},
   "outputs": [
    {
     "data": {
      "text/plain": [
       "{'x': float, 'return': int}"
      ]
     },
     "execution_count": 18,
     "metadata": {},
     "output_type": "execute_result"
    }
   ],
   "source": [
    "def f(x: float) -> int:\n",
    "    \n",
    "    return int(x)\n",
    "\n",
    "f.__annotations__"
   ]
  },
  {
   "cell_type": "markdown",
   "id": "51888e55",
   "metadata": {},
   "source": [
    "### 1.4 单向链表实现 最小栈\n",
    "- Reference: https://leetcode-cn.com/problems/min-stack/solution/python-lian-biao-shi-xian-zhan-by-fu-hao-tong/\n",
    "- https://leetcode-cn.com/problems/min-stack/solution/min-stack-fu-zhu-stackfa-by-jin407891080/"
   ]
  },
  {
   "cell_type": "code",
   "execution_count": 22,
   "id": "b23fc2bd",
   "metadata": {},
   "outputs": [],
   "source": [
    "class Node(object):\n",
    "    def __init__(self, value):\n",
    "        self.value = value\n",
    "        self.next = None\n",
    "        self.min_value = None\n",
    "\n",
    "class MinStack:\n",
    "    def __init__(self):\n",
    "        self.value = None\n",
    "        self.next = None\n",
    "        \n",
    "    def push(self, value: int) -> None:\n",
    "        p = Node(value)\n",
    "        p.next = self.next\n",
    "        self.next = p\n",
    "        # 表长大于1时\n",
    "        if p.next:\n",
    "            p.min_value = min(value, p.next.min_value)\n",
    "        else:\n",
    "            p.min_value = value\n",
    "    \n",
    "    def pop(self) -> None:\n",
    "        tmp = self.next\n",
    "        if tmp != None:\n",
    "            self.next = tmp.next\n",
    "        return\n",
    "    \n",
    "    def get_top_elem(self) -> int:\n",
    "        if self.next != None:\n",
    "            return self.next.value\n",
    "        return None\n",
    "    \n",
    "    def get_min_elem(self) -> int:\n",
    "        p = self.next\n",
    "        return p.min_value"
   ]
  },
  {
   "cell_type": "code",
   "execution_count": 23,
   "id": "2961fcec",
   "metadata": {},
   "outputs": [],
   "source": [
    "new_stack = MinStack()"
   ]
  },
  {
   "cell_type": "code",
   "execution_count": 24,
   "id": "713e7f9c",
   "metadata": {},
   "outputs": [],
   "source": [
    "new_stack.push(1)"
   ]
  },
  {
   "cell_type": "code",
   "execution_count": 25,
   "id": "26b8ba63",
   "metadata": {},
   "outputs": [],
   "source": [
    "new_stack.push(2)"
   ]
  },
  {
   "cell_type": "code",
   "execution_count": 26,
   "id": "13f92440",
   "metadata": {},
   "outputs": [],
   "source": [
    "new_stack.push(3)"
   ]
  },
  {
   "cell_type": "code",
   "execution_count": 27,
   "id": "f51af54c",
   "metadata": {},
   "outputs": [],
   "source": [
    "new_stack.pop()"
   ]
  },
  {
   "cell_type": "code",
   "execution_count": 28,
   "id": "a0bcf962",
   "metadata": {},
   "outputs": [
    {
     "data": {
      "text/plain": [
       "2"
      ]
     },
     "execution_count": 28,
     "metadata": {},
     "output_type": "execute_result"
    }
   ],
   "source": [
    "new_stack.get_top_elem()"
   ]
  },
  {
   "cell_type": "code",
   "execution_count": 29,
   "id": "4a3f0fbd",
   "metadata": {},
   "outputs": [
    {
     "data": {
      "text/plain": [
       "1"
      ]
     },
     "execution_count": 29,
     "metadata": {},
     "output_type": "execute_result"
    }
   ],
   "source": [
    "new_stack.get_min_elem()"
   ]
  },
  {
   "cell_type": "markdown",
   "id": "0710ed63",
   "metadata": {},
   "source": [
    "### 1.5 List 实现队列"
   ]
  },
  {
   "cell_type": "code",
   "execution_count": 30,
   "id": "d22ff2b9",
   "metadata": {},
   "outputs": [],
   "source": [
    "class Queue(object):\n",
    "    def __init__(self):\n",
    "        self.queue = []\n",
    "        \n",
    "    def enqueue(self, value):\n",
    "        self.queue.append(value)\n",
    "        \n",
    "    def dequeue(self):\n",
    "        self.queue.pop(0)\n",
    "        \n",
    "    def is_empty(self):\n",
    "        if len(self.queue) == 0:\n",
    "            return True\n",
    "        else:\n",
    "            return False\n",
    "    \n",
    "    def get_size(self):\n",
    "        return len(self.queue)\n",
    "    \n",
    "    def display_elem(self):\n",
    "        print(self.queue)\n",
    "        \n",
    "    def empty(self):\n",
    "        self.queue = []\n",
    "        \n",
    "    def destroy(self):\n",
    "        del self.queue"
   ]
  },
  {
   "cell_type": "code",
   "execution_count": 32,
   "id": "ae8b5889",
   "metadata": {},
   "outputs": [],
   "source": [
    "new_queue = Queue()"
   ]
  },
  {
   "cell_type": "code",
   "execution_count": 33,
   "id": "9eed1a90",
   "metadata": {},
   "outputs": [],
   "source": [
    "new_queue.enqueue(1)"
   ]
  },
  {
   "cell_type": "code",
   "execution_count": 34,
   "id": "095659fd",
   "metadata": {},
   "outputs": [],
   "source": [
    "new_queue.enqueue(2)"
   ]
  },
  {
   "cell_type": "code",
   "execution_count": 35,
   "id": "d0c2e5aa",
   "metadata": {},
   "outputs": [],
   "source": [
    "new_queue.enqueue(3)"
   ]
  },
  {
   "cell_type": "code",
   "execution_count": 36,
   "id": "7bc38d42",
   "metadata": {},
   "outputs": [],
   "source": [
    "new_queue.dequeue()"
   ]
  },
  {
   "cell_type": "code",
   "execution_count": 37,
   "id": "022d855a",
   "metadata": {},
   "outputs": [
    {
     "data": {
      "text/plain": [
       "False"
      ]
     },
     "execution_count": 37,
     "metadata": {},
     "output_type": "execute_result"
    }
   ],
   "source": [
    "new_queue.is_empty()"
   ]
  },
  {
   "cell_type": "code",
   "execution_count": 38,
   "id": "7398817a",
   "metadata": {},
   "outputs": [
    {
     "data": {
      "text/plain": [
       "2"
      ]
     },
     "execution_count": 38,
     "metadata": {},
     "output_type": "execute_result"
    }
   ],
   "source": [
    "new_queue.get_size()"
   ]
  },
  {
   "cell_type": "code",
   "execution_count": 39,
   "id": "f06fe05f",
   "metadata": {},
   "outputs": [
    {
     "name": "stdout",
     "output_type": "stream",
     "text": [
      "[2, 3]\n"
     ]
    }
   ],
   "source": [
    "new_queue.display_elem()"
   ]
  },
  {
   "cell_type": "code",
   "execution_count": 40,
   "id": "4e07b694",
   "metadata": {},
   "outputs": [],
   "source": [
    "new_queue.empty()"
   ]
  },
  {
   "cell_type": "code",
   "execution_count": 41,
   "id": "a69a814b",
   "metadata": {},
   "outputs": [],
   "source": [
    "new_queue.destroy()"
   ]
  },
  {
   "cell_type": "code",
   "execution_count": 42,
   "id": "9d0e451e",
   "metadata": {},
   "outputs": [
    {
     "ename": "AttributeError",
     "evalue": "'Queue' object has no attribute 'queue'",
     "output_type": "error",
     "traceback": [
      "\u001b[1;31m---------------------------------------------------------------------------\u001b[0m",
      "\u001b[1;31mAttributeError\u001b[0m                            Traceback (most recent call last)",
      "\u001b[1;32m<ipython-input-42-b593db2f36c6>\u001b[0m in \u001b[0;36m<module>\u001b[1;34m\u001b[0m\n\u001b[1;32m----> 1\u001b[1;33m \u001b[0mnew_queue\u001b[0m\u001b[1;33m.\u001b[0m\u001b[0menqueue\u001b[0m\u001b[1;33m(\u001b[0m\u001b[1;36m1\u001b[0m\u001b[1;33m)\u001b[0m\u001b[1;33m\u001b[0m\u001b[1;33m\u001b[0m\u001b[0m\n\u001b[0m",
      "\u001b[1;32m<ipython-input-30-1f2346df7582>\u001b[0m in \u001b[0;36menqueue\u001b[1;34m(self, value)\u001b[0m\n\u001b[0;32m      4\u001b[0m \u001b[1;33m\u001b[0m\u001b[0m\n\u001b[0;32m      5\u001b[0m     \u001b[1;32mdef\u001b[0m \u001b[0menqueue\u001b[0m\u001b[1;33m(\u001b[0m\u001b[0mself\u001b[0m\u001b[1;33m,\u001b[0m \u001b[0mvalue\u001b[0m\u001b[1;33m)\u001b[0m\u001b[1;33m:\u001b[0m\u001b[1;33m\u001b[0m\u001b[1;33m\u001b[0m\u001b[0m\n\u001b[1;32m----> 6\u001b[1;33m         \u001b[0mself\u001b[0m\u001b[1;33m.\u001b[0m\u001b[0mqueue\u001b[0m\u001b[1;33m.\u001b[0m\u001b[0mappend\u001b[0m\u001b[1;33m(\u001b[0m\u001b[0mvalue\u001b[0m\u001b[1;33m)\u001b[0m\u001b[1;33m\u001b[0m\u001b[1;33m\u001b[0m\u001b[0m\n\u001b[0m\u001b[0;32m      7\u001b[0m \u001b[1;33m\u001b[0m\u001b[0m\n\u001b[0;32m      8\u001b[0m     \u001b[1;32mdef\u001b[0m \u001b[0mdequeue\u001b[0m\u001b[1;33m(\u001b[0m\u001b[0mself\u001b[0m\u001b[1;33m)\u001b[0m\u001b[1;33m:\u001b[0m\u001b[1;33m\u001b[0m\u001b[1;33m\u001b[0m\u001b[0m\n",
      "\u001b[1;31mAttributeError\u001b[0m: 'Queue' object has no attribute 'queue'"
     ]
    }
   ],
   "source": [
    "new_queue.enqueue(1)"
   ]
  },
  {
   "attachments": {
    "image.png": {
     "image/png": "[encoded data removed]"
    }
   },
   "cell_type": "markdown",
   "id": "c2a31235",
   "metadata": {},
   "source": [
    "### 1.6 链表实现队列\n",
    "\n",
    "思路：定义一个单链表，其头结点的指针域指向首元结点，头结点的数据域指向链表的尾结点，时间复杂度为 $O(1)$。如图所示：\n",
    "\n",
    "![image.png](attachment:image.png)"
   ]
  },
  {
   "cell_type": "code",
   "execution_count": 50,
   "id": "3976af7a",
   "metadata": {},
   "outputs": [
    {
     "data": {
      "text/plain": [
       "[1, 2, 2, 3, 3, 4, 4, 5, 5]"
      ]
     },
     "execution_count": 50,
     "metadata": {},
     "output_type": "execute_result"
    }
   ],
   "source": [
    "a1 = [5, 4, 3, 2, 1, 2, 3, 4, 5]\n",
    "a1.sort()\n",
    "a1"
   ]
  },
  {
   "cell_type": "code",
   "execution_count": 51,
   "id": "5dc72da0",
   "metadata": {},
   "outputs": [],
   "source": [
    "# 无返回值\n",
    "b1 = a1.sort()\n",
    "b1"
   ]
  },
  {
   "cell_type": "code",
   "execution_count": 52,
   "id": "1fc6d7df",
   "metadata": {},
   "outputs": [
    {
     "data": {
      "text/plain": [
       "[1, 2, 2, 3, 3, 4, 4, 5, 5]"
      ]
     },
     "execution_count": 52,
     "metadata": {},
     "output_type": "execute_result"
    }
   ],
   "source": [
    "a2 = [5, 4, 3, 2, 1, 2, 3, 4, 5]\n",
    "sorted(a2)"
   ]
  },
  {
   "cell_type": "code",
   "execution_count": 54,
   "id": "807c8b95",
   "metadata": {},
   "outputs": [
    {
     "data": {
      "text/plain": [
       "[1, 2, 2, 3, 3, 4, 4, 5, 5]"
      ]
     },
     "execution_count": 54,
     "metadata": {},
     "output_type": "execute_result"
    }
   ],
   "source": [
    "# 有返回值\n",
    "b2 = sorted(a2)\n",
    "b2"
   ]
  },
  {
   "cell_type": "code",
   "execution_count": 38,
   "id": "a09f4c48",
   "metadata": {},
   "outputs": [],
   "source": [
    "class Head(object):\n",
    "    def __init__(self):\n",
    "        self.left = None\n",
    "        self.right = None\n",
    "\n",
    "class Node(object):\n",
    "    def __init__(self, value):\n",
    "        self.value = value\n",
    "        self.next = None\n",
    "\n",
    "class Queue(object):\n",
    "    def __init__(self):\n",
    "        # 初始化头结点\n",
    "        self.head = Head()\n",
    "\n",
    "    def enqueue(self, value):\n",
    "        # 新建插入元素结点\n",
    "        new_node = Node(value)\n",
    "        # 定义头指针\n",
    "        p = self.head\n",
    "        # 如果头结点之后不为None，说明链表中有元素\n",
    "        if p.right:\n",
    "            temp = p.right\n",
    "            p.right = new_node\n",
    "            temp.next = new_node\n",
    "        # 如果为None，说明表为空，只有头结点\n",
    "        else:\n",
    "            p.right = new_node\n",
    "            p.left = new_node\n",
    "\n",
    "    def dequeue(self):\n",
    "        p = self.head\n",
    "        \n",
    "        # 只有一个元素\n",
    "        if p.left and (p.left == p.right):\n",
    "            temp = p.left\n",
    "            p.left = p.right = None\n",
    "            return temp.value\n",
    "        # 不止一个元素\n",
    "        elif p.left and (p.left != p.right):\n",
    "            # 最先入队的元素\n",
    "            temp = p.left\n",
    "            p.left = temp.next\n",
    "            return temp.value\n",
    "\n",
    "        else:\n",
    "            raise LookupError('Queue is empty now!')\n",
    "\n",
    "    def is_empty(self):\n",
    "        if self.head.left:\n",
    "            return False\n",
    "        else:\n",
    "            return True\n",
    "\n",
    "    def top(self):\n",
    "        if self.head.left:\n",
    "            return self.head.left.value\n",
    "        else:\n",
    "            raise LookupError('Queue is empty now!')"
   ]
  },
  {
   "cell_type": "code",
   "execution_count": 39,
   "id": "a847030b",
   "metadata": {},
   "outputs": [],
   "source": [
    "new_queue = Queue()"
   ]
  },
  {
   "cell_type": "code",
   "execution_count": 40,
   "id": "10df857b",
   "metadata": {},
   "outputs": [],
   "source": [
    "new_queue.enqueue(1)\n",
    "new_queue.enqueue(2)\n",
    "new_queue.enqueue(3)"
   ]
  },
  {
   "cell_type": "code",
   "execution_count": 41,
   "id": "95960ec0",
   "metadata": {},
   "outputs": [
    {
     "data": {
      "text/plain": [
       "1"
      ]
     },
     "execution_count": 41,
     "metadata": {},
     "output_type": "execute_result"
    }
   ],
   "source": [
    "new_queue.dequeue()"
   ]
  },
  {
   "cell_type": "code",
   "execution_count": 42,
   "id": "0f2a7623",
   "metadata": {},
   "outputs": [
    {
     "data": {
      "text/plain": [
       "False"
      ]
     },
     "execution_count": 42,
     "metadata": {},
     "output_type": "execute_result"
    }
   ],
   "source": [
    "new_queue.is_empty()"
   ]
  }
 ],
 "metadata": {
  "kernelspec": {
   "display_name": "Python 3",
   "language": "python",
   "name": "python3"
  },
  "language_info": {
   "codemirror_mode": {
    "name": "ipython",
    "version": 3
   },
   "file_extension": ".py",
   "mimetype": "text/x-python",
   "name": "python",
   "nbconvert_exporter": "python",
   "pygments_lexer": "ipython3",
   "version": "3.8.8"
  }
 },
 "nbformat": 4,
 "nbformat_minor": 5
}
