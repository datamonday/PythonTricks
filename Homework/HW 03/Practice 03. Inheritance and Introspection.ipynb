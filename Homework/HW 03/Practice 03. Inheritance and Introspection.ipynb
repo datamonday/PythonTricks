{
 "cells": [
  {
   "cell_type": "markdown",
   "id": "53f2a285",
   "metadata": {},
   "source": [
    "# Practice Content\n",
    "\n",
    "2. 编写代码，定义一个名叫为 ListInstanceAttr 的类，显示从一个实例可以访问的所有属性名及其值。再将这个 ListInstanceAttr 类作为超类，用在多重继承中，看一看运行结果。提示：参考一下 “第6章__面向对象程序设计_1.pptx”的第51页。可能需要使用内置函数 getattr 以及 dir，比如：dir(self)\n"
   ]
  },
  {
   "attachments": {},
   "cell_type": "markdown",
   "id": "c11a482c",
   "metadata": {},
   "source": [
    "- 内省（introspection）是指计算机程序在运行时（run time）检查对象（object）类型的一种能力，也称作运行时类型检查（run-time type checking）\n",
    "\n",
    "- Introspection is an act of self examination. In computer programming, introspection is the ability to determine the type of an object at runtime.\n",
    "- Python提供了可用于内省的工具，它们是类的一些特殊属性和函数，允许我们访问对象实现的一些内部机制。比如 `instance.__class__` 和 `instance.__dict__`。"
   ]
  },
  {
   "attachments": {},
   "cell_type": "markdown",
   "id": "ad5d6699",
   "metadata": {},
   "source": [
    "# 1. OOP\n",
    "- 面向对象程序设计（Object Oriented Programming，OOP）\n",
    "\n",
    "- 主要思想：针对大型软件设计而提出，使得软件设计更加灵活，支持代码复用和设计复用，使得代码具有更好的可读性和可扩展性。\n",
    "\n",
    "- 一个基本原则：计算机程序由多个能够起到子程序作用的单元或对象组合而成，降低了软件开发的难度。\n",
    "\n",
    "- 一个关键观念：将数据以及对数据的操作封装在一起，组成一个相互依存、不可分割的整体，即对象（object）。\n",
    "\n",
    "- 对于相同类型的对象进行分类、抽象后，得出共同的特征而形成了类（class）。\n",
    "\n",
    "- 面向对象程序设计的关键：如何合理地定义和组织这些类以及类之间的关系。\n",
    "\n",
    "---\n",
    "# 2. Python OOP\n",
    "- 相同：Python完全采用了面向对象程序设计的思想，是真正面向对象的高级动态编程语言，完全支持面向对象的基本功能，如封装、继承、多态以及对基类方法的覆盖或重写。\n",
    "- 不同：Python中对象的概念很广泛，Python中的一切内容都可以称为对象例如，字符串、列表、字典、元组等内置数据类型都具有和类完全相似的语法和用法!"
   ]
  },
  {
   "attachments": {},
   "cell_type": "markdown",
   "id": "a9ab6714",
   "metadata": {},
   "source": [
    "## 2.1 类的定义\n",
    "- 驼峰命名法（CamelCase）：`class CamelCase: pass`，即组成类名的单词的首字母要大写!\n",
    "- `pass` 占位符\n",
    "\n",
    "---\n",
    "定义了类（class）之后，可以创建其实例（instance）：\n",
    "\n",
    "- 访问实例属性：`instance.attribute`\n",
    "- 访问实例方法：`instance.method( )`\n",
    "![](./images/class_defination.png)"
   ]
  },
  {
   "attachments": {},
   "cell_type": "markdown",
   "id": "a4157f9c",
   "metadata": {},
   "source": [
    "## 2.2 self 参数\n",
    "- 类的所有实例方法都必须至少有一个名为 self 的参数，并且必须是方法的第一个形参（如果有多个形参的话）\n",
    "- <font color=red> self 参数代表将来要创建的实例对象本身 </font>\n",
    "- 在外部通过实例对象调用方法时不需要传递这个self参数\n",
    "\n",
    "![image-3.png](./images/self_args.png)"
   ]
  },
  {
   "attachments": {},
   "cell_type": "markdown",
   "id": "8112582f",
   "metadata": {},
   "source": [
    "## 2.3 常用特殊方法\n",
    "- Python中类的**构造函数**是 `__init__()`，用来**为数据成员设置初值或进行初始化**，<font color=red>在创建对象时被自动调用执行</font>；\n",
    "- 如果用户没有定义自己的构造函数，Python将提供一个默认的构造函数用来进行必要的初始化工作；\n",
    "- Python中类的**析构函数**是 `__del__()`，用来**释放对象占用的资源**，在Python删除对象和收回对象空间时被自动调用和执行。\n",
    "- 如果用户没有编写析构函数，Python将提供一个默认的析构函数进行必要的清理工作；\n",
    "\n",
    "![img4](./images/special_methods.jpg)"
   ]
  },
  {
   "attachments": {},
   "cell_type": "markdown",
   "id": "6e66196e",
   "metadata": {},
   "source": [
    "# 3. 继承 (inheritance)\n",
    "- 继承（inheritance）是为代码复用和设计复用而设计的，是面向对象程序设计的重要特性之一。\n",
    "- 在继承关系中，已有的、设计好的类称为父类、基类或超类，新设计的类称为子类或派生类。\n",
    "- 在Python中，类（class）和通过类产生的实例（instance）是两种不同的对象类型\n",
    "- 类和实例都是对象（object）\n",
    "---\n",
    "- 下图中，底端有两个实例（instance1和instance2），在它们上面有个类（Class1），顶端有两个超类（Class2和Class3）\n",
    "- 继承就是由下至上，由左至右搜索这个树，以寻找属性名称所出现的最低的地方\n",
    "![image-6.png](./images/inheritance.png)\n",
    "\n",
    "---\n",
    "- 对于instance2.w，Python会按这个顺序搜索连接的对象：instance2，Class1，Class2， Class3。直到搜索到Class3时才找到w。我们说，instance2从Class3中继承了属性w；\n",
    "- instance1.x和instance2.x都会在Class1中找到x并停止搜索，因为Class1比Class2位置低\n",
    "- instance1.y和instance2.y都会在Class1中找到y，因为这是y唯一出现的地方\n",
    "- instance1.z和instance2.z都会在Class2中找到z，因为Class2比Class3更靠左侧\n",
    "- instance2.name会找到instance2中的name，不需要“爬树”"
   ]
  },
  {
   "cell_type": "code",
   "execution_count": null,
   "id": "46711218",
   "metadata": {},
   "outputs": [],
   "source": [
    "<font color=red> </font>"
   ]
  },
  {
   "attachments": {},
   "cell_type": "markdown",
   "id": "6fe7f386",
   "metadata": {},
   "source": [
    "## 3.1 添加行为方法\n",
    "- 使用封装（encapsulation）的思想，把操作逻辑包装到界面之后，从而对外隐藏对象的具体实现细节。\n",
    "- 把操作对象的代码放在类定义中，使其成为类的方法。\n",
    "- 把对类属性的操作放入类定义中，成为类的实例方法，使得这些操作可以用于类的任何实例。好处：减少代码冗余，方便维护。\n",
    "- 类的实例方法（instance method）只不过是附加给类，并旨在处理那些类的实例的常规函数。\n",
    "- 实例（instance）是方法调用的主体，并且会被自动地传递给类的实例方法的名为 self 的参数。"
   ]
  },
  {
   "attachments": {},
   "cell_type": "markdown",
   "id": "971ad98d",
   "metadata": {},
   "source": [
    "## 3.2 运算符重载\n",
    "- 使用运算符重载（operator overloading）在类中编写某些方法，当这些方法在类的实例中运行时，其可以截获并处理某些内置的操作。\n",
    "- 比如重载 __str__ 方法。这样每次一个实例转换为其打印字符串的时候， __str__ 方法都会自动运行。\n",
    "- 如果不定义 __str__ 方法，那么我们定义的类就会从它的超类继承 __str__ 方法。即要么自己定义一个该方法，要么从一个超类继承一个该方法。\n",
    "![image-3.png](./images/operator_reload.png)"
   ]
  },
  {
   "attachments": {},
   "cell_type": "markdown",
   "id": "4de05f56",
   "metadata": {},
   "source": [
    "## 3.3 __str__ 和 __repr__辨析\n",
    "- `__str__` 和 `__repr__` 都必须返回字符串\n",
    "- `__repr__` 用于任何地方，除非重载了 `__str__`。\n",
    "- 在交互模式（interactive mode），只会用 `__repr__`。此时即使重载了`__str__`，也不会被用到。\n",
    "![image-3.png](./images/__str__and__repr__.png)\n",
    "\n",
    "---\n",
    "- `__str__` 和 `__repr__` 两个显示方法是为了进行“用户友好”的显示!\n",
    "- Rule of thumb:  `__repr__` is for developers, `__str__` is for customers.\n",
    "- 可以通过重载让 `__str__` 显示简洁的信息，而让 `__repr__` 显示包括内存地址在内的详细的对象信息，以便程序员调试。\n",
    "- <font color=red> 如果想让所有环境都有统一的显示，那就只重载__repr__ </font>\n",
    "\n",
    "---\n",
    "在实践中，经常需要在log中记录对象的信息以供debug，此时，你一定想要一个精心设计的、可以显示对象关键信息的 `__repr__`。\n",
    "\n",
    "```python\n",
    "import logging\n",
    "\n",
    "log(INFO, 'I am in the weird function and a is', a, 'and b is', b)\n",
    "```\n",
    "\n",
    "如果你没有一个合适的 `__repr__`，那么在上例中最终打印（或存储）的日志里的对象 a 和 b 的信息就可能对debug没有多大用。这里也正体现出 `__repr__` 的作用：for understanding the object。"
   ]
  },
  {
   "attachments": {},
   "cell_type": "markdown",
   "id": "25bc8d86",
   "metadata": {},
   "source": [
    "### 字符串格式化符 %r\n",
    "\n",
    "- `%r`: String （repr()）\n",
    "- `%s`: String （str()）\n",
    "\n",
    "![image.png](./images/string_fromat.png)"
   ]
  },
  {
   "cell_type": "code",
   "execution_count": 13,
   "id": "4a490c72",
   "metadata": {},
   "outputs": [
    {
     "name": "stdout",
     "output_type": "stream",
     "text": [
      "[Person: Bob Smith, 0]\n",
      "[Person: Tom Jones, 500000]\n"
     ]
    }
   ],
   "source": [
    "class Person(object):\n",
    "    def __init__(self, name, job=None, pay=0):\n",
    "        self.name = name\n",
    "        self.job = job\n",
    "        self.pay = pay\n",
    "        \n",
    "    def last_name(self):\n",
    "        return self.name.split()[-1]\n",
    "    \n",
    "    def give_raise(self, percent):\n",
    "        self.pay = int(self.pay * (1 + percent))\n",
    "        \n",
    "    def __str__(self):\n",
    "        return '[Person: %s, %s]' % (self.name, self.pay)\n",
    "    \n",
    "\n",
    "class Manager(Person):\n",
    "    def give_raise(self, percent, bonus=0.1):\n",
    "        # 此种实现方式，方便代码维护，减少修改的地方\n",
    "        Person.give_raise(self, percent + bonus)\n",
    "        \n",
    "        \n",
    "if __name__ == '__main__':\n",
    "    bob = Person('Bob Smith')\n",
    "    # 如果在创建Manager实例对象时可以有某种方式自动填入job=‘manager’这个参数，就更好了\n",
    "    tom = Manager('Tom Jones', 'manager', 500000)\n",
    "    \n",
    "    print(bob)\n",
    "    print(tom)"
   ]
  },
  {
   "attachments": {},
   "cell_type": "markdown",
   "id": "948fea86",
   "metadata": {},
   "source": [
    "## 3.4 使用内省(introspection)工具\n",
    "\n",
    "需求：如果想在打印经理 tom 时输出 \"Manager\"，该如何做？\n",
    "\n",
    "想法：有没有办法让实例对象自己知道自己的类的相关信息？\n",
    "\n",
    "实现：使用内省工具。\n",
    "\n",
    "---\n",
    "Python提供了可用于内省的工具，它们是类的一些特殊属性和函数，允许我们访问对象实现的一些内部机制。比如 `instance.__class__` 和 `instance.__dict__`\n",
    "\n",
    "- **内省（introspection）** 是指计算机程序在运行时（run time）检查对象（object）类型的一种能力，也称作运行时类型检查（run-time type checking）\n",
    "\n",
    "---\n",
    "ref:\n",
    "> 1. https://en.wikipedia.org/wiki/Type_introspection\n",
    "> 2. http://zetcode.com/lang/python/introspection/\n",
    "> 3. https://stackoverflow.com/questions/510972/getting-the-class-name-of-an-instance-in-python\n",
    "\n",
    "The inspect module provides several useful functions to help get information about live objects:\n",
    "> 4. https://docs.python.org/2/library/inspect.html\n",
    "> 5. https://docs.python.org/3/library/inspect.html"
   ]
  },
  {
   "cell_type": "code",
   "execution_count": 8,
   "id": "8ecc89b3",
   "metadata": {},
   "outputs": [],
   "source": [
    "class AttrDisplay(object):\n",
    "    \n",
    "    def gather_attrs(self):\n",
    "        attrs = ['%s = %s' % (key, getattr(self, key)) for key in sorted(self.__dict__)]\n",
    "        return ', '.join(attrs)\n",
    "\n",
    "    def __str__(self):\n",
    "        return '[%s: %s]' % (self.__class__.__name__, self.gather_attrs())"
   ]
  },
  {
   "cell_type": "markdown",
   "id": "79100fd5",
   "metadata": {},
   "source": [
    "- `getattr(object, name)` 是Python的内建函数。\n",
    "- `__class__` 为实例属性"
   ]
  },
  {
   "cell_type": "code",
   "execution_count": 12,
   "id": "f6fef2f8",
   "metadata": {},
   "outputs": [
    {
     "name": "stdout",
     "output_type": "stream",
     "text": [
      "[Person: job = None, name = Bob Smith, pay = 0]\n",
      "[Manager: job = manager, name = Tom Jones, pay = 500000]\n"
     ]
    }
   ],
   "source": [
    "class Person(AttrDisplay):\n",
    "    def __init__(self, name, job=None, pay=0):\n",
    "        self.name = name\n",
    "        self.job = job\n",
    "        self.pay = pay\n",
    "        \n",
    "    def last_name(self):\n",
    "        return self.name.split()[-1]\n",
    "    \n",
    "    def give_raise(self, percent):\n",
    "        self.pay = int(self.pay * (1 + percent))\n",
    "        \n",
    "#     def __str__(self):\n",
    "#         return '[Person: %s, %s]' % (self.name, self.pay)\n",
    "    \n",
    "\n",
    "class Manager(Person):\n",
    "    \n",
    "    def __init__(self, name, pay):\n",
    "        Person.__init__(self, name, 'manager', pay)\n",
    "        \n",
    "    def give_raise(self, percent, bonus=0.1):\n",
    "        # 此种实现方式，方便代码维护，减少修改的地方\n",
    "        Person.give_raise(self, percent + bonus)\n",
    "        \n",
    "        \n",
    "if __name__ == '__main__':\n",
    "    bob = Person('Bob Smith')\n",
    "    \n",
    "    # 如果在创建Manager实例对象时可以有某种方式自动填入job=‘manager’这个参数，就更好了\n",
    "#     tom = Manager('Tom Jones', 'manager', 500000)\n",
    "    # 使用内省工具改进\n",
    "    tom = Manager('Tom Jones', 500000)\n",
    "    \n",
    "    print(bob)\n",
    "    print(tom)"
   ]
  },
  {
   "cell_type": "markdown",
   "id": "e168874f",
   "metadata": {},
   "source": [
    "# 4. Assignment\n",
    "\n",
    "- 编写代码，定义一个名叫为 ListInstanceAttr 的类，显示从一个实例可以访问的所有属性名及其值。再将这个 ListInstanceAttr 类作为超类，用在多重继承中，看一看运行结果。"
   ]
  },
  {
   "cell_type": "code",
   "execution_count": 49,
   "id": "06ee8c90",
   "metadata": {},
   "outputs": [
    {
     "name": "stdout",
     "output_type": "stream",
     "text": [
      "[FCBPlayerData: \n",
      "name = Messi, \n",
      "number = 10, \n",
      "age = 33, \n",
      "pos = RW, \n",
      "salary = 70.758, \n",
      "contract = 2023, \n",
      "league = Liga, \n",
      "club = FCB, \n",
      "season = 20/21, \n",
      "games = 35, \n",
      "shots = 196, \n",
      "goals = 30, \n",
      "assists = 9] \n",
      "\n",
      "场均进球： 0.86\n",
      "进球效率： 6.53\n"
     ]
    }
   ],
   "source": [
    "class ListInstanceAttr(object):\n",
    "    def gather_attrs(self):\n",
    "#         attrs = ['%s = %s' % (key, getattr(self, key)) for key in sorted(self.__dict__)]\n",
    "#         attrs = ['%r = %r' % (key, getattr(self, key)) for key in sorted(self.__dict__)]\n",
    "        attrs = [f'{key} = {getattr(self, key)}' for key in self.__dict__]\n",
    "        return ', \\n'.join(attrs)\n",
    "    \n",
    "    def __str__(self):\n",
    "        return '[%s: \\n%s]' % (self.__class__.__name__, self.gather_attrs())\n",
    "#     def __repr__(self):\n",
    "#         return '[%r: %r]' % (self.__class__.__name__, self.gather_attrs())\n",
    "    \n",
    "class SoccerPlayer(ListInstanceAttr):\n",
    "    \"\"\"\n",
    "    球员基本信息统计\n",
    "    ---\n",
    "    param number: 球衣号码\n",
    "    param name: 姓名\n",
    "    param age: 年龄\n",
    "    param position: 位置\n",
    "    param salary: 年薪 (百万欧€)\n",
    "    param contract: 合同截止年限\n",
    "    param league: 联赛\n",
    "    param club: 俱乐部\n",
    "    \"\"\"\n",
    "    def __init__(self, name, number, age, position, salary, contract, league, club):\n",
    "        self.name = name\n",
    "        self.number = number\n",
    "        self.age = age\n",
    "        self.pos = position\n",
    "        self.salary = salary\n",
    "        self.contract = contract\n",
    "        self.league = league\n",
    "        self.club = club\n",
    "        \n",
    "class FCBPlayerData(SoccerPlayer):\n",
    "    \"\"\"\n",
    "    FCB球员数据信息统计\n",
    "    ----\n",
    "    param season: 赛季\n",
    "    param games: 参加比赛数\n",
    "    param shots: 射门次数\n",
    "    param goals: 进球数\n",
    "    param assists: 助攻数\n",
    "    \"\"\"\n",
    "    def __init__(self, name, number, age, position, salary, contract, season, games, shots, goals, assists):\n",
    "        SoccerPlayer.__init__(self, name, number, age, position, salary, contract, 'Liga', 'FCB')\n",
    "        self.season = season\n",
    "        self.games = games\n",
    "        self.shots = shots\n",
    "        self.goals = goals\n",
    "        self.assists = assists\n",
    "        \n",
    "    # 场均进球\n",
    "    def avg_goals(self) -> float:\n",
    "        if self.games > 0:\n",
    "            return round(float(self.goals) / self.games, 2)\n",
    "        else:\n",
    "            raise ZeroDivisionError(\"[Error] divide by zero!\")\n",
    "    \n",
    "    # 进球效率        \n",
    "    def eff_goals(self) -> float:\n",
    "        if self.goals > 0:\n",
    "            return round(float(self.shots) / self.goals, 2)\n",
    "        else:\n",
    "            raise ZeroDivisionError(\"[Error] divide by zero!\")\n",
    "            \n",
    "    def raise_salary(self, percent):\n",
    "        self.salary = round(self.salary * (1.0 + percent), 4)\n",
    "        \n",
    "\n",
    "if __name__ == '__main__':\n",
    "    messi = FCBPlayerData('Messi', 10, 33, 'RW', 70.7580, 2023, '20/21', 35, 196, 30, 9)\n",
    "    print(messi, '\\n')\n",
    "    print('场均进球：', messi.avg_goals())\n",
    "    print('进球效率：', messi.eff_goals())"
   ]
  },
  {
   "cell_type": "code",
   "execution_count": 15,
   "id": "bb41c9a5",
   "metadata": {},
   "outputs": [
    {
     "data": {
      "text/plain": [
       "(int, float)"
      ]
     },
     "execution_count": 15,
     "metadata": {},
     "output_type": "execute_result"
    }
   ],
   "source": [
    "type(0), type(0.0)"
   ]
  },
  {
   "cell_type": "code",
   "execution_count": 2,
   "id": "13c5ebe8",
   "metadata": {},
   "outputs": [
    {
     "name": "stdout",
     "output_type": "stream",
     "text": [
      "Init\n"
     ]
    }
   ],
   "source": [
    "lia = ListInstanceAttr()"
   ]
  },
  {
   "cell_type": "code",
   "execution_count": 3,
   "id": "21eff056",
   "metadata": {},
   "outputs": [
    {
     "data": {
      "text/plain": [
       "{}"
      ]
     },
     "execution_count": 3,
     "metadata": {},
     "output_type": "execute_result"
    }
   ],
   "source": [
    "lia.__dict__"
   ]
  },
  {
   "cell_type": "code",
   "execution_count": 4,
   "id": "2b106e95",
   "metadata": {},
   "outputs": [
    {
     "data": {
      "text/plain": [
       "<method-wrapper '__str__' of ListInstanceAttr object at 0x000002A9F23511C0>"
      ]
     },
     "execution_count": 4,
     "metadata": {},
     "output_type": "execute_result"
    }
   ],
   "source": [
    "lia.__str__"
   ]
  },
  {
   "cell_type": "code",
   "execution_count": 5,
   "id": "fa9308ff",
   "metadata": {},
   "outputs": [
    {
     "data": {
      "text/plain": [
       "<method-wrapper '__repr__' of ListInstanceAttr object at 0x000002A9F23511C0>"
      ]
     },
     "execution_count": 5,
     "metadata": {},
     "output_type": "execute_result"
    }
   ],
   "source": [
    "lia.__repr__"
   ]
  },
  {
   "cell_type": "code",
   "execution_count": 9,
   "id": "2b0c6380",
   "metadata": {},
   "outputs": [
    {
     "data": {
      "text/plain": [
       "'ListInstanceAttr'"
      ]
     },
     "execution_count": 9,
     "metadata": {},
     "output_type": "execute_result"
    }
   ],
   "source": [
    "lia.__class__.__name__"
   ]
  },
  {
   "attachments": {},
   "cell_type": "markdown",
   "id": "60acbd82",
   "metadata": {},
   "source": [
    "## Summary\n",
    "\n",
    "以上的例子涵盖了Python面向对象编程机制（OOP）中几乎所有的重要概念：\n",
    "- 定义类：class Person(object):\n",
    "- 在类方法中封装业务逻辑\n",
    "- 运算符重载\n",
    "- 通过继承得到子类：class Manager(Person):\n",
    "- 在子类中定制行为（重载）：重新定义子类中的方法以使其特殊化\n",
    "- 在子类中定制构造函数\n",
    "- 通过类创建实例：tom = Manager()\n",
    "- 运行时类型检查（内省）"
   ]
  }
 ],
 "metadata": {
  "kernelspec": {
   "display_name": "Python 3",
   "language": "python",
   "name": "python3"
  },
  "language_info": {
   "codemirror_mode": {
    "name": "ipython",
    "version": 3
   },
   "file_extension": ".py",
   "mimetype": "text/x-python",
   "name": "python",
   "nbconvert_exporter": "python",
   "pygments_lexer": "ipython3",
   "version": "3.8.8"
  }
 },
 "nbformat": 4,
 "nbformat_minor": 5
}
