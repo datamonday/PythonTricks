{
 "cells": [
  {
   "cell_type": "code",
   "execution_count": 1,
   "id": "83c7d346",
   "metadata": {},
   "outputs": [
    {
     "name": "stdout",
     "output_type": "stream",
     "text": [
      "[FCBPlayerData: \n",
      "name = Messi, \n",
      "number = 10, \n",
      "age = 33, \n",
      "pos = RW, \n",
      "salary = 70.758, \n",
      "contract = 2023, \n",
      "league = Liga, \n",
      "club = FCB, \n",
      "season = 20/21, \n",
      "games = 35, \n",
      "shots = 196, \n",
      "goals = 30, \n",
      "assists = 9] \n",
      "\n",
      "场均进球： 0.86\n",
      "进球效率： 6.53\n"
     ]
    }
   ],
   "source": [
    "class ListInstanceAttr(object):\n",
    "    def gather_attrs(self):\n",
    "#         attrs = ['%s = %s' % (key, getattr(self, key)) for key in sorted(self.__dict__)]\n",
    "#         attrs = ['%r = %r' % (key, getattr(self, key)) for key in sorted(self.__dict__)]\n",
    "        attrs = [f'{key} = {getattr(self, key)}' for key in self.__dict__]\n",
    "        return ', \\n'.join(attrs)\n",
    "    \n",
    "    def __str__(self):\n",
    "        return '[%s: \\n%s]' % (self.__class__.__name__, self.gather_attrs())\n",
    "#     def __repr__(self):\n",
    "#         return '[%r: %r]' % (self.__class__.__name__, self.gather_attrs())\n",
    "    \n",
    "class SoccerPlayer(ListInstanceAttr):\n",
    "    \"\"\"\n",
    "    球员基本信息统计\n",
    "    ---\n",
    "    param number: 球衣号码\n",
    "    param name: 姓名\n",
    "    param age: 年龄\n",
    "    param position: 位置\n",
    "    param salary: 年薪 (百万欧€)\n",
    "    param contract: 合同截止年限\n",
    "    param league: 联赛\n",
    "    param club: 俱乐部\n",
    "    \"\"\"\n",
    "    def __init__(self, name, number, age, position, salary, contract, league, club):\n",
    "        self.name = name\n",
    "        self.number = number\n",
    "        self.age = age\n",
    "        self.pos = position\n",
    "        self.salary = salary\n",
    "        self.contract = contract\n",
    "        self.league = league\n",
    "        self.club = club\n",
    "        \n",
    "class FCBPlayerData(SoccerPlayer):\n",
    "    \"\"\"\n",
    "    FCB球员数据信息统计\n",
    "    ----\n",
    "    param season: 赛季\n",
    "    param games: 参加比赛数\n",
    "    param shots: 射门次数\n",
    "    param goals: 进球数\n",
    "    param assists: 助攻数\n",
    "    \"\"\"\n",
    "    def __init__(self, name, number, age, position, salary, contract, season, games, shots, goals, assists):\n",
    "        SoccerPlayer.__init__(self, name, number, age, position, salary, contract, 'Liga', 'FCB')\n",
    "        self.season = season\n",
    "        self.games = games\n",
    "        self.shots = shots\n",
    "        self.goals = goals\n",
    "        self.assists = assists\n",
    "        \n",
    "    # 场均进球\n",
    "    def avg_goals(self) -> float:\n",
    "        if self.games > 0:\n",
    "            return round(float(self.goals) / self.games, 2)\n",
    "        else:\n",
    "            raise ZeroDivisionError(\"[Error] divide by zero!\")\n",
    "    \n",
    "    # 进球效率        \n",
    "    def eff_goals(self) -> float:\n",
    "        if self.goals > 0:\n",
    "            return round(float(self.shots) / self.goals, 2)\n",
    "        else:\n",
    "            raise ZeroDivisionError(\"[Error] divide by zero!\")\n",
    "            \n",
    "    def raise_salary(self, percent):\n",
    "        self.salary = round(self.salary * (1.0 + percent), 4)\n",
    "        \n",
    "\n",
    "if __name__ == '__main__':\n",
    "    messi = FCBPlayerData('Messi', 10, 33, 'RW', 70.7580, 2023, '20/21', 35, 196, 30, 9)\n",
    "    print(messi, '\\n')\n",
    "    print('场均进球：', messi.avg_goals())\n",
    "    print('进球效率：', messi.eff_goals())"
   ]
  },
  {
   "cell_type": "markdown",
   "id": "04c85746",
   "metadata": {},
   "source": [
    "## 4.1 unittest 模块使用\n",
    "- 单元测试是用来对一个模块、一个函数或者一个类来进行正确性检验的测试工作。\n",
    "- 如果单元测试通过，说明被测试的函数能正常工作。如果不通过，要么函数有bug，要么测试条件输入不正确，总之，需要修复使单元测试能够通过。\n",
    "- 这种以测试为驱动的开发模式最大的好处：确保一个程序模块的行为符合设计的测试用例。在将来修改时，可以极大程度地保证该模块行为仍然正确。"
   ]
  },
  {
   "cell_type": "markdown",
   "id": "cb99503b",
   "metadata": {},
   "source": [
    "- 为了编写单元测试，需要引入Python自带的unittest模块。\n",
    "- unittest是python的标准的单元测试框架，能够很好的和自动化测试相结合，并有独立的测试报告框架。\n",
    "\n",
    "---\n",
    "unittest的主要有四部分构成:\n",
    "- test fixture: 用于初始化、清理等动作。\n",
    "- test case: 测试用例，unittest的最小单元。用以对指定输入的返回结果进行检测。在unittest中提供 了TestCase基类，用来创建新的测试用例类。\n",
    "- test suite: 测试套件，一系列测试用例或测试套件的集合。在unittest中由TestSuite类实现。\n",
    "- test runner: 测试执行器，负责用例执行并生成测试报告，在unittest中提供了命令行模式和GUI模式来执行。\n",
    "\n",
    "\n",
    "> Reference: \n",
    ">\n",
    "> https://www.jianshu.com/p/4a17a3040f07\n",
    ">\n",
    "> https://www.jianshu.com/p/9cee0c8cb8fc\n",
    "\n",
    "---\n",
    "以test开头的方法就是测试方法，不以test开头的方法不被认为是测试方法，测试的时候不会被执行。\n",
    "\n",
    "对每一类测试都需要编写一个test_xxx()方法。由于unittest.TestCase提供了很多内置的条件判断，我们只需要调用这些方法就可以断言输出是否是我们所期望的。最常用的断言就是assertEqual()：\n",
    "\n",
    "另一种重要的断言就是期待抛出指定类型的Error，比如通过d['empty']访问不存在的key时，断言会抛出KeyError：\n",
    "```python\n",
    "with self.assertRaises(KeyError):\n",
    "    value = d['empty']\n",
    "```\n",
    "而通过d.empty访问不存在的key时，我们期待抛出AttributeError：\n",
    "```python\n",
    "with self.assertRaises(AttributeError):\n",
    "    value = d.empty\n",
    "```"
   ]
  },
  {
   "cell_type": "code",
   "execution_count": 9,
   "id": "1629242c",
   "metadata": {},
   "outputs": [
    {
     "name": "stderr",
     "output_type": "stream",
     "text": [
      "E\n",
      "======================================================================\n",
      "ERROR: C:\\Users\\34123\\AppData\\Roaming\\jupyter\\runtime\\kernel-9644a50b-5aeb-4689-a1d6-023c67ce95c7 (unittest.loader._FailedTest)\n",
      "----------------------------------------------------------------------\n",
      "AttributeError: module '__main__' has no attribute 'C:\\Users\\34123\\AppData\\Roaming\\jupyter\\runtime\\kernel-9644a50b-5aeb-4689-a1d6-023c67ce95c7'\n",
      "\n",
      "----------------------------------------------------------------------\n",
      "Ran 1 test in 0.001s\n",
      "\n",
      "FAILED (errors=1)\n"
     ]
    },
    {
     "ename": "SystemExit",
     "evalue": "True",
     "output_type": "error",
     "traceback": [
      "An exception has occurred, use %tb to see the full traceback.\n",
      "\u001b[1;31mSystemExit\u001b[0m\u001b[1;31m:\u001b[0m True\n"
     ]
    },
    {
     "name": "stderr",
     "output_type": "stream",
     "text": [
      "D:\\anaconda\\envs\\tensorflow\\lib\\site-packages\\IPython\\core\\interactiveshell.py:3445: UserWarning: To exit: use 'exit', 'quit', or Ctrl-D.\n",
      "  warn(\"To exit: use 'exit', 'quit', or Ctrl-D.\", stacklevel=1)\n"
     ]
    }
   ],
   "source": [
    "import unittest\n",
    "\n",
    "class TestPlayer(unittest.TestCase):\n",
    "    def test_init(self):\n",
    "        messi = FCBPlayerData('Messi', 10, 33, 'RW', 70.7580, 2023, '20/21', 35, 196, 30, 9)\n",
    "        self.assertEqual(messi.name, 'Messi')\n",
    "        self.assertEqual(messi.number, 10)\n",
    "        self.assertEqual(messi.age, 33)\n",
    "        self.assertEqual(messi.pos, 'RW')\n",
    "        self.assertEqual(messi.salary, 70.7580)\n",
    "        self.assertEqual(messi.contract, 2023)\n",
    "#         self.assertEquals(messi, ['Messi', 10, 33, 'RW', 70.7580, 2023, '20/21', 35, 196, 30, 9])\n",
    "        self.assertTrue(isinstance(messi, object))\n",
    "        \n",
    "if __name__ == '__main__':\n",
    "    unittest.main()"
   ]
  }
 ],
 "metadata": {
  "kernelspec": {
   "display_name": "Python 3",
   "language": "python",
   "name": "python3"
  },
  "language_info": {
   "codemirror_mode": {
    "name": "ipython",
    "version": 3
   },
   "file_extension": ".py",
   "mimetype": "text/x-python",
   "name": "python",
   "nbconvert_exporter": "python",
   "pygments_lexer": "ipython3",
   "version": "3.8.8"
  }
 },
 "nbformat": 4,
 "nbformat_minor": 5
}
