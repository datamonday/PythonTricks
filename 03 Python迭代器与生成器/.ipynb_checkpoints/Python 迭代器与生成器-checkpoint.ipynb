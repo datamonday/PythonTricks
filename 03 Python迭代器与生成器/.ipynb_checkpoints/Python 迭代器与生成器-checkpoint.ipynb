{
 "cells": [
  {
   "cell_type": "markdown",
   "id": "69e9b892",
   "metadata": {},
   "source": [
    "# I 迭代器"
   ]
  },
  {
   "cell_type": "markdown",
   "id": "cae63c8a",
   "metadata": {},
   "source": [
    "## 1. 函数名的运用\n",
    "- 函数名是一个特殊的变量，与括号（） 配合可以执行函数的变量。"
   ]
  },
  {
   "cell_type": "markdown",
   "id": "a87c7be6",
   "metadata": {},
   "source": [
    "### 1）函数名的内存地址"
   ]
  },
  {
   "cell_type": "code",
   "execution_count": 3,
   "id": "2ee38601",
   "metadata": {},
   "outputs": [
    {
     "name": "stdout",
     "output_type": "stream",
     "text": [
      "<function func1 at 0x000001F24FB3F670>\n"
     ]
    }
   ],
   "source": [
    "def func1():\n",
    "    print(\"Hello World!\")\n",
    "\n",
    "print(func1)"
   ]
  },
  {
   "cell_type": "markdown",
   "id": "8a5999b0",
   "metadata": {},
   "source": [
    "### 2）函数名可以赋值给其他变量"
   ]
  },
  {
   "cell_type": "code",
   "execution_count": 5,
   "id": "b71b8a53",
   "metadata": {},
   "outputs": [
    {
     "name": "stdout",
     "output_type": "stream",
     "text": [
      "<function func2 at 0x000001F24FE4BB80>\n"
     ]
    }
   ],
   "source": [
    "def func2():\n",
    "    print(func2)\n",
    "\n",
    "# 把函数当成一个值赋给另一个变量\n",
    "a = func2\n",
    "\n",
    "# 函数调用 func2()\n",
    "a()"
   ]
  },
  {
   "cell_type": "markdown",
   "id": "afc1a2e0",
   "metadata": {},
   "source": [
    "### 3）函数名可以当做容器类的元素"
   ]
  },
  {
   "cell_type": "code",
   "execution_count": 6,
   "id": "43b1102b",
   "metadata": {},
   "outputs": [],
   "source": [
    "def func3():\n",
    "    print(func3)"
   ]
  },
  {
   "cell_type": "code",
   "execution_count": 7,
   "id": "db4772c5",
   "metadata": {},
   "outputs": [
    {
     "name": "stdout",
     "output_type": "stream",
     "text": [
      "Hello World!\n",
      "<function func2 at 0x000001F24FE4BB80>\n",
      "<function func3 at 0x000001F24FE4B940>\n"
     ]
    }
   ],
   "source": [
    "func_list = [func1, func2, func3]\n",
    "\n",
    "for func in func_list:\n",
    "    func()"
   ]
  },
  {
   "cell_type": "markdown",
   "id": "ffb29791",
   "metadata": {},
   "source": [
    "### 4）函数名可以当做函数的参数"
   ]
  },
  {
   "cell_type": "code",
   "execution_count": 10,
   "id": "70a395fa",
   "metadata": {},
   "outputs": [
    {
     "name": "stdout",
     "output_type": "stream",
     "text": [
      "func42 start\n",
      "this is func41\n"
     ]
    }
   ],
   "source": [
    "def func41():\n",
    "    print(\"this is func41\")\n",
    "\n",
    "def func42(func):\n",
    "    print(\"func42 start\")\n",
    "    \n",
    "    # 执行传递的func\n",
    "    func()\n",
    "    \n",
    "func42(func41)"
   ]
  },
  {
   "cell_type": "markdown",
   "id": "007324dd",
   "metadata": {},
   "source": [
    "### 5）函数可以作为函数的返回值"
   ]
  },
  {
   "cell_type": "code",
   "execution_count": 11,
   "id": "150204fc",
   "metadata": {},
   "outputs": [
    {
     "name": "stdout",
     "output_type": "stream",
     "text": [
      "this is func_1\n"
     ]
    }
   ],
   "source": [
    "def func_1():\n",
    "    print(\"this is func_1\")\n",
    "    \n",
    "    def func_2():\n",
    "        print(\"this is func_2\")\n",
    "    \n",
    "    return func_2\n",
    "\n",
    "# 执行func_1，返回的是func_2\n",
    "# 此时，fn 返回的是func_2\n",
    "fn = func_1()"
   ]
  },
  {
   "cell_type": "code",
   "execution_count": 13,
   "id": "0d15d923",
   "metadata": {},
   "outputs": [
    {
     "name": "stdout",
     "output_type": "stream",
     "text": [
      "this is func_2\n"
     ]
    }
   ],
   "source": [
    "# 执行 func_2\n",
    "fn()"
   ]
  },
  {
   "cell_type": "code",
   "execution_count": 12,
   "id": "b7bf38cf",
   "metadata": {},
   "outputs": [
    {
     "data": {
      "text/plain": [
       "<function __main__.func_1.<locals>.func_2()>"
      ]
     },
     "execution_count": 12,
     "metadata": {},
     "output_type": "execute_result"
    }
   ],
   "source": [
    "fn"
   ]
  },
  {
   "cell_type": "markdown",
   "id": "c9514880",
   "metadata": {},
   "source": [
    "## 闭包（closure）\n",
    "- 闭包就是内层函数对外层函数（非全局）的变量的引用。"
   ]
  },
  {
   "cell_type": "code",
   "execution_count": 14,
   "id": "1ab7ffba",
   "metadata": {},
   "outputs": [
    {
     "name": "stdout",
     "output_type": "stream",
     "text": [
      "messi\n"
     ]
    }
   ],
   "source": [
    "def func1():\n",
    "    name = \"messi\"\n",
    "    \n",
    "    def func2():\n",
    "        print(name)\n",
    "        # 闭包\n",
    "        \n",
    "    func2()\n",
    "    \n",
    "    \n",
    "func1()"
   ]
  },
  {
   "cell_type": "markdown",
   "id": "6cd0a1ca",
   "metadata": {},
   "source": [
    "### 1）检测闭包\n",
    "- 可以使用 `func.__closure__` 来检测函数是否是闭包。\n",
    "- 若返回 cell 则为闭包；返回None则不是闭包"
   ]
  },
  {
   "cell_type": "code",
   "execution_count": 17,
   "id": "dc7700ed",
   "metadata": {},
   "outputs": [
    {
     "name": "stdout",
     "output_type": "stream",
     "text": [
      "check closure\n",
      "(<cell at 0x000001F24FD728B0: str object at 0x000001F24FE8DE30>,)\n"
     ]
    }
   ],
   "source": [
    "def func1():\n",
    "    msg = \"check closure\"\n",
    "    \n",
    "    def func2():\n",
    "        print(msg)\n",
    "        # 闭包\n",
    "\n",
    "    func2()\n",
    "    print(func2.__closure__)\n",
    "    \n",
    "    \n",
    "func1()"
   ]
  },
  {
   "cell_type": "markdown",
   "id": "dd45d5a9",
   "metadata": {},
   "source": [
    "以上实现方式存在一个问题：只能先执行func1才能执行func2，如果想在外边调用，可以将内部的函数名当做参数，作为外部函数的返回值，这样可以返回外部函数的调用者。"
   ]
  },
  {
   "cell_type": "code",
   "execution_count": 20,
   "id": "602d4e32",
   "metadata": {},
   "outputs": [
    {
     "name": "stdout",
     "output_type": "stream",
     "text": [
      "run inner\n",
      "call msg: this is outer\n"
     ]
    }
   ],
   "source": [
    "def outer():\n",
    "    \n",
    "    msg = \"this is outer\"\n",
    "    \n",
    "    def inner():\n",
    "        print(\"run inner\")\n",
    "        print(\"call msg:\", msg)\n",
    "        \n",
    "    return inner\n",
    "\n",
    "\n",
    "# 访问外部函数，获取内部函数的函数地址\n",
    "fn = outer()\n",
    "\n",
    "# 访问外部函数\n",
    "fn()"
   ]
  },
  {
   "cell_type": "markdown",
   "id": "8004e911",
   "metadata": {},
   "source": [
    "<font color=red>**在闭包中，如果变量被销毁了，则内部函数将不能正常执行。所以Python规定：如果在内部函数访问了外部函数中的变量，那么这个变量将一直存在于内存中。这样做的好处是：闭包的作用就是让一个变量能够常驻内存，供后面的程序使用。**</font>"
   ]
  },
  {
   "cell_type": "markdown",
   "id": "5e517d34",
   "metadata": {},
   "source": [
    "## 3. 迭代器"
   ]
  },
  {
   "cell_type": "markdown",
   "id": "d83e7abe",
   "metadata": {},
   "source": [
    "### 1）可迭代对象（iterable）\n",
    "- str\n",
    "- list\n",
    "- dict\n",
    "- tuple\n",
    "- set"
   ]
  },
  {
   "cell_type": "markdown",
   "id": "2ae58709",
   "metadata": {},
   "source": [
    "### 2）dir查看对象的方法和函数\n",
    "- ` '__iter__'` 表示这个类型为可迭代对象"
   ]
  },
  {
   "cell_type": "code",
   "execution_count": 21,
   "id": "e629bd97",
   "metadata": {},
   "outputs": [
    {
     "data": {
      "text/plain": [
       "['__add__',\n",
       " '__class__',\n",
       " '__contains__',\n",
       " '__delattr__',\n",
       " '__dir__',\n",
       " '__doc__',\n",
       " '__eq__',\n",
       " '__format__',\n",
       " '__ge__',\n",
       " '__getattribute__',\n",
       " '__getitem__',\n",
       " '__getnewargs__',\n",
       " '__gt__',\n",
       " '__hash__',\n",
       " '__init__',\n",
       " '__init_subclass__',\n",
       " '__iter__',\n",
       " '__le__',\n",
       " '__len__',\n",
       " '__lt__',\n",
       " '__mod__',\n",
       " '__mul__',\n",
       " '__ne__',\n",
       " '__new__',\n",
       " '__reduce__',\n",
       " '__reduce_ex__',\n",
       " '__repr__',\n",
       " '__rmod__',\n",
       " '__rmul__',\n",
       " '__setattr__',\n",
       " '__sizeof__',\n",
       " '__str__',\n",
       " '__subclasshook__',\n",
       " 'capitalize',\n",
       " 'casefold',\n",
       " 'center',\n",
       " 'count',\n",
       " 'encode',\n",
       " 'endswith',\n",
       " 'expandtabs',\n",
       " 'find',\n",
       " 'format',\n",
       " 'format_map',\n",
       " 'index',\n",
       " 'isalnum',\n",
       " 'isalpha',\n",
       " 'isascii',\n",
       " 'isdecimal',\n",
       " 'isdigit',\n",
       " 'isidentifier',\n",
       " 'islower',\n",
       " 'isnumeric',\n",
       " 'isprintable',\n",
       " 'isspace',\n",
       " 'istitle',\n",
       " 'isupper',\n",
       " 'join',\n",
       " 'ljust',\n",
       " 'lower',\n",
       " 'lstrip',\n",
       " 'maketrans',\n",
       " 'partition',\n",
       " 'replace',\n",
       " 'rfind',\n",
       " 'rindex',\n",
       " 'rjust',\n",
       " 'rpartition',\n",
       " 'rsplit',\n",
       " 'rstrip',\n",
       " 'split',\n",
       " 'splitlines',\n",
       " 'startswith',\n",
       " 'strip',\n",
       " 'swapcase',\n",
       " 'title',\n",
       " 'translate',\n",
       " 'upper',\n",
       " 'zfill']"
      ]
     },
     "execution_count": 21,
     "metadata": {},
     "output_type": "execute_result"
    }
   ],
   "source": [
    "msg = 'display obj method and function'\n",
    "\n",
    "dir(msg)"
   ]
  },
  {
   "cell_type": "markdown",
   "id": "a89a1600",
   "metadata": {},
   "source": [
    "### 3）isinstence()函数查看对象类型\n",
    "\n",
    "- `collections` 模块实现了特定目标的容器，以提供Python标准内建容器 dict , list , set , 和 tuple 的替代选择。\n",
    "- docs: https://docs.python.org/zh-cn/3/library/collections.html\n",
    "\n",
    "---\n",
    "- `isinstance()` 函数来判断一个对象是否是一个已知的类型，类似 `type()`。\n",
    "- docs:https://www.runoob.com/python/python-func-isinstance.html\n",
    "- isinstance() 与 type() 区别：\n",
    "    - type() 不会认为子类是一种父类类型，不考虑继承关系。\n",
    "    - isinstance() 会认为子类是一种父类类型，考虑继承关系。\n",
    "- 如果要判断两个类型是否相同推荐使用 isinstance()。\n",
    "\n",
    "---\n",
    "- `isinstance(object, classinfo)`\n",
    "    - `object` -- 实例对象。\n",
    "    - `classinfo` -- 可以是直接或间接类名、基本类型或者由它们组成的元组。"
   ]
  },
  {
   "cell_type": "code",
   "execution_count": 36,
   "id": "5edffa7d",
   "metadata": {},
   "outputs": [
    {
     "name": "stdout",
     "output_type": "stream",
     "text": [
      "True\n"
     ]
    }
   ],
   "source": [
    "a = 100\n",
    "print(isinstance(a, (int,str,list)))"
   ]
  },
  {
   "cell_type": "code",
   "execution_count": 26,
   "id": "610da686",
   "metadata": {},
   "outputs": [],
   "source": [
    "from collections import Counter"
   ]
  },
  {
   "cell_type": "code",
   "execution_count": 24,
   "id": "3ce6d53c",
   "metadata": {},
   "outputs": [],
   "source": [
    "from collections.abc import Iterable\n",
    "from collections.abc import Iterator"
   ]
  },
  {
   "cell_type": "code",
   "execution_count": 22,
   "id": "ad3c1f22",
   "metadata": {},
   "outputs": [],
   "source": [
    "lst = [2,0,2,1,4,1,5]"
   ]
  },
  {
   "cell_type": "code",
   "execution_count": 30,
   "id": "66f903e7",
   "metadata": {},
   "outputs": [
    {
     "name": "stdout",
     "output_type": "stream",
     "text": [
      "True\n"
     ]
    }
   ],
   "source": [
    "# 查看是不是可迭代对象\n",
    "print(isinstance(lst, Iterable))"
   ]
  },
  {
   "cell_type": "code",
   "execution_count": 31,
   "id": "fc3e02cf",
   "metadata": {},
   "outputs": [
    {
     "name": "stdout",
     "output_type": "stream",
     "text": [
      "False\n"
     ]
    }
   ],
   "source": [
    "# 查看是不是迭代器\n",
    "print(isinstance(lst, Iterator))"
   ]
  },
  {
   "cell_type": "markdown",
   "id": "df251f9a",
   "metadata": {},
   "source": [
    "**<font color=red>如果对象中有 `__iter__()`函数,则认为这个对象遵守可迭代协议.就可以获取到相应的迭代器.</font>**"
   ]
  },
  {
   "cell_type": "code",
   "execution_count": 35,
   "id": "700df89e",
   "metadata": {},
   "outputs": [
    {
     "name": "stdout",
     "output_type": "stream",
     "text": [
      "<list_iterator object at 0x000001F250F754C0>\n",
      "True\n"
     ]
    }
   ],
   "source": [
    "# 获取迭代器\n",
    "lst_iter = lst.__iter__()\n",
    "\n",
    "print(lst_iter)\n",
    "print(isinstance(lst_iter, Iterator))"
   ]
  },
  {
   "cell_type": "markdown",
   "id": "1b154059",
   "metadata": {},
   "source": [
    "`__iter__()` 是获取对象的迭代器.迭代器中的 `__next__()` 获取一个迭代器的元素"
   ]
  },
  {
   "cell_type": "markdown",
   "id": "ebc3ee01",
   "metadata": {},
   "source": [
    "### 4）使用while循环和迭代器模拟for循环\n",
    "- for循环机制：使用__next__() 获取迭代器，每次获取元素都通过__next__()实现；当遇到StopIteration则结束循环。"
   ]
  },
  {
   "cell_type": "code",
   "execution_count": 39,
   "id": "e5bd0a5c",
   "metadata": {},
   "outputs": [
    {
     "name": "stdout",
     "output_type": "stream",
     "text": [
      "2021\n",
      "4\n",
      "15\n",
      "18\n",
      "30\n"
     ]
    }
   ],
   "source": [
    "lst = [2021,4,15,18,30]\n",
    "\n",
    "# 获取迭代器\n",
    "l = lst.__iter__()\n",
    "''\n",
    "while True:\n",
    "    try:\n",
    "        i = l.__next__()\n",
    "        print(i)\n",
    "        \n",
    "    except StopIteration:\n",
    "        break"
   ]
  },
  {
   "cell_type": "markdown",
   "id": "cb236298",
   "metadata": {},
   "source": [
    "### 5）迭代器 类\n",
    "- 迭代器类型的定义：\n",
    "- 内部包含 __iter__() 和 __next__() 方法\n",
    "- `__iter__`方法返回对象本身，即self\n",
    "- `__next__`方法返回下一个数据，如果没有数据了，则抛出StopIteration异常！"
   ]
  },
  {
   "cell_type": "markdown",
   "id": "5ec9ae73",
   "metadata": {},
   "source": [
    "### **可迭代对象：如果一个类中有 `__iter__()` 方法且返回一个【迭代器对象】，则称以这个类创建的对象为可迭代对象。**\n",
    "### **可迭代对象可以使用for进行循环，在循环的内部其实是先执行 `__iter__()` 方法，获取其迭代器对象，然后在内部执行这个迭代器对象的 `__next__()` 方法 ，逐步取值。**"
   ]
  },
  {
   "cell_type": "code",
   "execution_count": 83,
   "id": "73698764",
   "metadata": {},
   "outputs": [],
   "source": [
    "# 迭代器类\n",
    "class Iter(object):\n",
    "    def __init__(self, num):\n",
    "        self.num = num\n",
    "        self.counter = -1\n",
    "    \n",
    "    def __iter__(self):\n",
    "        return self\n",
    "    \n",
    "    def __next__(self):\n",
    "        self.counter += 1\n",
    "        if self.counter == self.num:\n",
    "            \n",
    "            raise StopIteration()\n",
    "            \n",
    "        return self.counter"
   ]
  },
  {
   "cell_type": "code",
   "execution_count": 88,
   "id": "014e717c",
   "metadata": {},
   "outputs": [],
   "source": [
    "class Foo(object):\n",
    "    def __init__(self, num):\n",
    "        self.num = num\n",
    "    def __iter__(self):\n",
    "        # 返回一个迭代器类\n",
    "        return Iter(self.num)"
   ]
  },
  {
   "cell_type": "code",
   "execution_count": 90,
   "id": "7b5f6d83",
   "metadata": {},
   "outputs": [
    {
     "name": "stdout",
     "output_type": "stream",
     "text": [
      "0\n",
      "1\n",
      "2\n",
      "3\n",
      "4\n",
      "5\n",
      "6\n",
      "7\n",
      "8\n",
      "9\n"
     ]
    }
   ],
   "source": [
    "# 可迭代对象\n",
    "obj_iter = Foo(10)\n",
    "\n",
    "# 循环可迭代对象\n",
    "for item in obj_iter:\n",
    "    print(item)"
   ]
  },
  {
   "cell_type": "markdown",
   "id": "f9d252ec",
   "metadata": {},
   "source": [
    "## Summary"
   ]
  },
  {
   "cell_type": "markdown",
   "id": "bacbc67d",
   "metadata": {},
   "source": [
    "- Iterable：可迭代对象，内部包含 `__iter__()` 函数\n",
    "- Iterator：迭代器，内部包含 `__iter__()` 和 `__next__()` 函数\n",
    "\n",
    "迭代器的特点：\n",
    "1. 节省内存\n",
    "2. 惰性机制\n",
    "3. 不能反复，只能向下执行\n",
    "\n",
    "<font color=red>**可以把迭代的内容当做子弹。获取到迭代器__iter__()就把子弹都装入弹夹，然后发射就是通过__next__()把子弹（元素）打出去.**</font>"
   ]
  },
  {
   "cell_type": "markdown",
   "id": "28fdd58a",
   "metadata": {},
   "source": [
    "## ---------------------------------------------------------------------------------"
   ]
  },
  {
   "cell_type": "markdown",
   "id": "e4a897ed",
   "metadata": {},
   "source": [
    "# II 生成器\n",
    "\n",
    "python中获取生成器的两种方法：\n",
    "1. 通过生成器函数\n",
    "2. 各种推导式\n"
   ]
  },
  {
   "cell_type": "code",
   "execution_count": 4,
   "id": "d1ba3d08",
   "metadata": {},
   "outputs": [
    {
     "name": "stdout",
     "output_type": "stream",
     "text": [
      "run func\n"
     ]
    },
    {
     "data": {
      "text/plain": [
       "2021"
      ]
     },
     "execution_count": 4,
     "metadata": {},
     "output_type": "execute_result"
    }
   ],
   "source": [
    "def func1():\n",
    "    print(\"run func\")\n",
    "    \n",
    "    return 2021\n",
    "\n",
    "func1()"
   ]
  },
  {
   "cell_type": "markdown",
   "id": "b1bc6471",
   "metadata": {},
   "source": [
    "## 1. 生成器"
   ]
  },
  {
   "cell_type": "markdown",
   "id": "ba0df916",
   "metadata": {},
   "source": [
    "### 1）定义"
   ]
  },
  {
   "cell_type": "code",
   "execution_count": 5,
   "id": "d00f3c4d",
   "metadata": {},
   "outputs": [
    {
     "data": {
      "text/plain": [
       "<generator object func2 at 0x0000022754082430>"
      ]
     },
     "execution_count": 5,
     "metadata": {},
     "output_type": "execute_result"
    }
   ],
   "source": [
    "# 添加 yield 变为生成器\n",
    "\n",
    "def func2():\n",
    "    print(\"run func\")\n",
    "    \n",
    "    yield 2021\n",
    "\n",
    "# 这个时候函数不会执⾏，而是创建一个生成器\n",
    "func2()"
   ]
  },
  {
   "cell_type": "markdown",
   "id": "c23910ec",
   "metadata": {},
   "source": [
    "### 生成器的本质就是迭代器，可以通过迭代器的方式直接使用生成器！"
   ]
  },
  {
   "cell_type": "code",
   "execution_count": 16,
   "id": "2bc755d9",
   "metadata": {},
   "outputs": [
    {
     "name": "stdout",
     "output_type": "stream",
     "text": [
      "run func\n",
      "2021\n"
     ]
    }
   ],
   "source": [
    "# 开始执行数据，yield与return一样，也是返回数据\n",
    "run_func2 = func2().__next__()\n",
    "print(run_func2)"
   ]
  },
  {
   "cell_type": "markdown",
   "id": "11311d5c",
   "metadata": {},
   "source": [
    "### 2) 与return的区别\n",
    "- yield是分段执行一个函数，可以出现多次\n",
    "- return 是直接停止这个函数，return可以出现多次但是执行到第一个就结束"
   ]
  },
  {
   "cell_type": "code",
   "execution_count": 17,
   "id": "17f3f283",
   "metadata": {},
   "outputs": [],
   "source": [
    "def func3():\n",
    "    print('run print 1, then run yield 1 ↓')\n",
    "    \n",
    "    yield 'run yield 1'\n",
    "    \n",
    "    print('run print 2, then run yield 1 ↓')\n",
    "    \n",
    "    yield 'run yield 2'  \n",
    "    \n",
    "    print('run print 3, then run yield 1 ↓')\n",
    "    \n",
    "    yield 'run yield 3'   "
   ]
  },
  {
   "cell_type": "code",
   "execution_count": 26,
   "id": "e735071b",
   "metadata": {},
   "outputs": [],
   "source": [
    "func3_iter = func3()"
   ]
  },
  {
   "cell_type": "code",
   "execution_count": 27,
   "id": "be8d4628",
   "metadata": {},
   "outputs": [
    {
     "name": "stdout",
     "output_type": "stream",
     "text": [
      "run print 1, then run yield 1 ↓\n"
     ]
    },
    {
     "data": {
      "text/plain": [
       "'run yield 1'"
      ]
     },
     "execution_count": 27,
     "metadata": {},
     "output_type": "execute_result"
    }
   ],
   "source": [
    "func3_iter.__next__()"
   ]
  },
  {
   "cell_type": "code",
   "execution_count": 28,
   "id": "d097a330",
   "metadata": {},
   "outputs": [
    {
     "name": "stdout",
     "output_type": "stream",
     "text": [
      "run print 2, then run yield 1 ↓\n"
     ]
    },
    {
     "data": {
      "text/plain": [
       "'run yield 2'"
      ]
     },
     "execution_count": 28,
     "metadata": {},
     "output_type": "execute_result"
    }
   ],
   "source": [
    "func3_iter.__next__()"
   ]
  },
  {
   "cell_type": "code",
   "execution_count": 29,
   "id": "3f69e144",
   "metadata": {},
   "outputs": [
    {
     "name": "stdout",
     "output_type": "stream",
     "text": [
      "run print 3, then run yield 1 ↓\n"
     ]
    },
    {
     "data": {
      "text/plain": [
       "'run yield 3'"
      ]
     },
     "execution_count": 29,
     "metadata": {},
     "output_type": "execute_result"
    }
   ],
   "source": [
    "func3_iter.__next__()"
   ]
  },
  {
   "cell_type": "code",
   "execution_count": 30,
   "id": "787ea83d",
   "metadata": {},
   "outputs": [
    {
     "ename": "StopIteration",
     "evalue": "",
     "output_type": "error",
     "traceback": [
      "\u001b[1;31m---------------------------------------------------------------------------\u001b[0m",
      "\u001b[1;31mStopIteration\u001b[0m                             Traceback (most recent call last)",
      "\u001b[1;32m<ipython-input-30-1dd92dd1f4c2>\u001b[0m in \u001b[0;36m<module>\u001b[1;34m\u001b[0m\n\u001b[1;32m----> 1\u001b[1;33m \u001b[0mfunc3_iter\u001b[0m\u001b[1;33m.\u001b[0m\u001b[0m__next__\u001b[0m\u001b[1;33m(\u001b[0m\u001b[1;33m)\u001b[0m\u001b[1;33m\u001b[0m\u001b[1;33m\u001b[0m\u001b[0m\n\u001b[0m",
      "\u001b[1;31mStopIteration\u001b[0m: "
     ]
    }
   ],
   "source": [
    "func3_iter.__next__()"
   ]
  },
  {
   "cell_type": "markdown",
   "id": "1b304a4a",
   "metadata": {},
   "source": [
    "### 3）生成器的作用"
   ]
  },
  {
   "cell_type": "markdown",
   "id": "38d89a40",
   "metadata": {},
   "source": [
    "节省内存！\n",
    "\n",
    "<font color=blue>**可以想象成做包子卖包子的问题，如果不使用生成器，相当于一次性做出指定数量的包子，放在保温箱保存，等着人来买，既占地方又会导致口感不好；如果使用生成器，就相当于，一边做一边卖，既不占地方又能保证包子的口感。**</font>"
   ]
  },
  {
   "cell_type": "code",
   "execution_count": 35,
   "id": "b688a05a",
   "metadata": {},
   "outputs": [],
   "source": [
    "def make1(n):\n",
    "    steamed = []\n",
    "    \n",
    "    for i in range(1, n+1):\n",
    "        steamed.append(\"包子\"+str(i))\n",
    "    \n",
    "    return steamed\n",
    "\n",
    "\n",
    "\n",
    "def make2(n):\n",
    "    \n",
    "    for i in range(1, n+1):\n",
    "        \n",
    "        yield \"包子\"+str(i)"
   ]
  },
  {
   "cell_type": "code",
   "execution_count": 36,
   "id": "07b5f5d6",
   "metadata": {},
   "outputs": [
    {
     "data": {
      "text/plain": [
       "['包子1', '包子2', '包子3', '包子4', '包子5', '包子6', '包子7', '包子8', '包子9', '包子10']"
      ]
     },
     "execution_count": 36,
     "metadata": {},
     "output_type": "execute_result"
    }
   ],
   "source": [
    "eat1 = make1(10)\n",
    "eat1"
   ]
  },
  {
   "cell_type": "code",
   "execution_count": 38,
   "id": "7d9d4de8",
   "metadata": {},
   "outputs": [
    {
     "data": {
      "text/plain": [
       "'包子1'"
      ]
     },
     "execution_count": 38,
     "metadata": {},
     "output_type": "execute_result"
    }
   ],
   "source": [
    "# 构造生成器\n",
    "eat2 = make2(10)\n",
    "# 开始执行\n",
    "eat2.__next__()"
   ]
  },
  {
   "cell_type": "code",
   "execution_count": 39,
   "id": "3a266e95",
   "metadata": {},
   "outputs": [
    {
     "data": {
      "text/plain": [
       "'包子2'"
      ]
     },
     "execution_count": 39,
     "metadata": {},
     "output_type": "execute_result"
    }
   ],
   "source": [
    "eat2.__next__()"
   ]
  },
  {
   "cell_type": "code",
   "execution_count": 40,
   "id": "3585fc85",
   "metadata": {},
   "outputs": [
    {
     "data": {
      "text/plain": [
       "'包子3'"
      ]
     },
     "execution_count": 40,
     "metadata": {},
     "output_type": "execute_result"
    }
   ],
   "source": [
    "eat2.__next__()"
   ]
  },
  {
   "cell_type": "markdown",
   "id": "912c53ce",
   "metadata": {},
   "source": [
    "### 4）send() 方法与 next() 方法对比\n",
    "\n",
    "- <font color=blue>`send()` 方法是将括号中的内容传给了【上一个 yield】，然后【yield 接收的值就可以赋值给变量】</font>\n",
    "- send()和next()都可以使得生成器向下走一次\n",
    "- 在第一执行生成器时，不能直接使用send()，但可以使用send(None)"
   ]
  },
  {
   "cell_type": "code",
   "execution_count": 41,
   "id": "7cf2fa14",
   "metadata": {},
   "outputs": [],
   "source": [
    "def make3(n):\n",
    "    \n",
    "    for i in range(1, n+1):\n",
    "        \n",
    "        a = yield \"包子\"+str(i)\n",
    "        print(\"正在做：\", a)\n",
    "        \n",
    "        b = yield \"馒头\"+str(i)\n",
    "        print(\"正在做：\", b)"
   ]
  },
  {
   "cell_type": "code",
   "execution_count": 51,
   "id": "4b20d6a5",
   "metadata": {},
   "outputs": [],
   "source": [
    "eat3 = make3(10)"
   ]
  },
  {
   "cell_type": "code",
   "execution_count": 52,
   "id": "eb22fc02",
   "metadata": {},
   "outputs": [
    {
     "data": {
      "text/plain": [
       "'包子1'"
      ]
     },
     "execution_count": 52,
     "metadata": {},
     "output_type": "execute_result"
    }
   ],
   "source": [
    "eat3.__next__()"
   ]
  },
  {
   "cell_type": "code",
   "execution_count": 53,
   "id": "4db76163",
   "metadata": {},
   "outputs": [
    {
     "name": "stdout",
     "output_type": "stream",
     "text": [
      "正在做： None\n"
     ]
    },
    {
     "data": {
      "text/plain": [
       "'馒头1'"
      ]
     },
     "execution_count": 53,
     "metadata": {},
     "output_type": "execute_result"
    }
   ],
   "source": [
    "eat3.__next__()"
   ]
  },
  {
   "cell_type": "code",
   "execution_count": 54,
   "id": "96b1a41d",
   "metadata": {},
   "outputs": [
    {
     "name": "stdout",
     "output_type": "stream",
     "text": [
      "正在做： 窝窝头\n"
     ]
    },
    {
     "data": {
      "text/plain": [
       "'包子2'"
      ]
     },
     "execution_count": 54,
     "metadata": {},
     "output_type": "execute_result"
    }
   ],
   "source": [
    "eat3.send(\"窝窝头\")"
   ]
  },
  {
   "cell_type": "code",
   "execution_count": 55,
   "id": "17cf75ab",
   "metadata": {},
   "outputs": [
    {
     "name": "stdout",
     "output_type": "stream",
     "text": [
      "正在做： 煎饼\n"
     ]
    },
    {
     "data": {
      "text/plain": [
       "'馒头2'"
      ]
     },
     "execution_count": 55,
     "metadata": {},
     "output_type": "execute_result"
    }
   ],
   "source": [
    "eat3.send(\"煎饼\")"
   ]
  },
  {
   "cell_type": "code",
   "execution_count": 56,
   "id": "ffc86cac",
   "metadata": {},
   "outputs": [
    {
     "name": "stdout",
     "output_type": "stream",
     "text": [
      "正在做： None\n"
     ]
    },
    {
     "data": {
      "text/plain": [
       "'包子3'"
      ]
     },
     "execution_count": 56,
     "metadata": {},
     "output_type": "execute_result"
    }
   ],
   "source": [
    "eat3.__next__()"
   ]
  },
  {
   "cell_type": "code",
   "execution_count": 57,
   "id": "1e2fb000",
   "metadata": {},
   "outputs": [
    {
     "name": "stdout",
     "output_type": "stream",
     "text": [
      "正在做： None\n"
     ]
    },
    {
     "data": {
      "text/plain": [
       "'馒头3'"
      ]
     },
     "execution_count": 57,
     "metadata": {},
     "output_type": "execute_result"
    }
   ],
   "source": [
    "eat3.__next__()"
   ]
  },
  {
   "cell_type": "markdown",
   "id": "2168009b",
   "metadata": {},
   "source": [
    "### 5）for循环获取生成器内部元素"
   ]
  },
  {
   "cell_type": "code",
   "execution_count": 58,
   "id": "8d4abe8a",
   "metadata": {},
   "outputs": [
    {
     "name": "stdout",
     "output_type": "stream",
     "text": [
      "包子1\n",
      "包子2\n",
      "包子3\n",
      "包子4\n",
      "包子5\n",
      "包子6\n",
      "包子7\n",
      "包子8\n",
      "包子9\n",
      "包子10\n"
     ]
    }
   ],
   "source": [
    "eat2 = make2(10)\n",
    "\n",
    "for ele in eat2:\n",
    "    print(ele)"
   ]
  },
  {
   "cell_type": "markdown",
   "id": "9b001cdb",
   "metadata": {},
   "source": [
    "## 2. yield from\n",
    "- yield from 可以直接把可迭代对象中的每一个数据作为生成器的结果进行返回。"
   ]
  },
  {
   "cell_type": "code",
   "execution_count": 65,
   "id": "1ee97f01",
   "metadata": {},
   "outputs": [],
   "source": [
    "def sell1():\n",
    "    goods = [\"老冰棍\", \"北冰洋\", \"健力宝\", \"康师傅\"]\n",
    "    \n",
    "    yield from goods"
   ]
  },
  {
   "cell_type": "code",
   "execution_count": 66,
   "id": "5d081033",
   "metadata": {},
   "outputs": [
    {
     "name": "stdout",
     "output_type": "stream",
     "text": [
      "老冰棍\n",
      "北冰洋\n",
      "健力宝\n",
      "康师傅\n"
     ]
    }
   ],
   "source": [
    "buy1 = sell1()\n",
    "for ele in buy1:\n",
    "    print(ele)"
   ]
  },
  {
   "cell_type": "markdown",
   "id": "a3c72b4c",
   "metadata": {},
   "source": [
    "**yield from 是将列表中的每一个元素返回, 所以两个yield from 不会产生交替效果**"
   ]
  },
  {
   "cell_type": "code",
   "execution_count": 72,
   "id": "500b48fd",
   "metadata": {},
   "outputs": [],
   "source": [
    "def sell2():\n",
    "    goods1 = [\"老冰棍\", \"北冰洋\", \"健力宝\", \"康师傅\"]\n",
    "    goods2 = [\"大大卷\", \"干脆面\", \"大刀肉\", \"魔芋爽\"]\n",
    "    \n",
    "    yield from goods1\n",
    "    print('-' * 16)\n",
    "    yield from goods2"
   ]
  },
  {
   "cell_type": "code",
   "execution_count": 73,
   "id": "01b45622",
   "metadata": {},
   "outputs": [
    {
     "name": "stdout",
     "output_type": "stream",
     "text": [
      "老冰棍\n",
      "北冰洋\n",
      "健力宝\n",
      "康师傅\n",
      "----------------\n",
      "大大卷\n",
      "干脆面\n",
      "大刀肉\n",
      "魔芋爽\n"
     ]
    }
   ],
   "source": [
    "buy2 = sell2()\n",
    "for ele in buy2:\n",
    "    print(ele)"
   ]
  },
  {
   "cell_type": "markdown",
   "id": "51787111",
   "metadata": {},
   "source": [
    "## 3. 推导式"
   ]
  },
  {
   "cell_type": "markdown",
   "id": "acf4b688",
   "metadata": {},
   "source": [
    "### 1）列表推导式"
   ]
  },
  {
   "cell_type": "code",
   "execution_count": 74,
   "id": "7e2ac50c",
   "metadata": {},
   "outputs": [
    {
     "data": {
      "text/plain": [
       "[1, 2, 3, 4, 5, 6, 7, 8, 9]"
      ]
     },
     "execution_count": 74,
     "metadata": {},
     "output_type": "execute_result"
    }
   ],
   "source": [
    "lst1 = [i for i in range(1, 10)]\n",
    "lst1"
   ]
  },
  {
   "cell_type": "markdown",
   "id": "eff8eea5",
   "metadata": {},
   "source": [
    "### 2）筛选模式"
   ]
  },
  {
   "cell_type": "code",
   "execution_count": 76,
   "id": "c7a3bf96",
   "metadata": {},
   "outputs": [
    {
     "data": {
      "text/plain": [
       "[2, 4, 6, 8]"
      ]
     },
     "execution_count": 76,
     "metadata": {},
     "output_type": "execute_result"
    }
   ],
   "source": [
    "lst2 = [j for j in range(1, 10) if j % 2 == 0]\n",
    "lst2"
   ]
  },
  {
   "cell_type": "markdown",
   "id": "af8edf00",
   "metadata": {},
   "source": [
    "### 3）生成器推导式：与列表推导式的语法基本一致，只是把 `[]` 换成 `()`！"
   ]
  },
  {
   "cell_type": "code",
   "execution_count": 77,
   "id": "f812165a",
   "metadata": {},
   "outputs": [
    {
     "name": "stdout",
     "output_type": "stream",
     "text": [
      "11\n",
      "12\n",
      "13\n",
      "14\n",
      "15\n",
      "16\n",
      "17\n",
      "18\n",
      "19\n"
     ]
    }
   ],
   "source": [
    "gen = (i for i in range(11, 20))\n",
    "\n",
    "for ele in gen:\n",
    "    print(ele)"
   ]
  },
  {
   "cell_type": "code",
   "execution_count": 79,
   "id": "60846191",
   "metadata": {},
   "outputs": [
    {
     "name": "stdout",
     "output_type": "stream",
     "text": [
      "<generator object <genexpr> at 0x00000227552BB200>\n",
      "12\n",
      "14\n",
      "16\n",
      "18\n"
     ]
    }
   ],
   "source": [
    "# 筛选\n",
    "gen = (i for i in range(11, 20) if i % 2 == 0)\n",
    "\n",
    "print(gen)\n",
    "\n",
    "for ele in gen:\n",
    "    print(ele)"
   ]
  },
  {
   "cell_type": "markdown",
   "id": "4274054b",
   "metadata": {},
   "source": [
    "**列表推导式与生成器推导式的区别：**\n",
    "1. 列表推导式一次性加载，比较耗内存；而生成器表达式几乎不占用内存，使用时才分配内存；\n",
    "2. 得到的值不一样，列表推导式得到的是一个列表；而生成器推导式得到的是一个生成器！\n",
    "\n",
    "<font color=red>**可以想象成，张三想吃鸡蛋，列表推导式就如同张三去超市买一篮子鸡蛋，放家里边；生成器就如同张三买只母鸡，等母鸡下蛋，下一个吃一个。**</font>"
   ]
  },
  {
   "cell_type": "markdown",
   "id": "82c291e5",
   "metadata": {},
   "source": [
    "### 4）字典推导式"
   ]
  },
  {
   "cell_type": "code",
   "execution_count": 81,
   "id": "cbf0d1ec",
   "metadata": {},
   "outputs": [
    {
     "data": {
      "text/plain": [
       "{'jj': '林俊杰', 'jay': '周杰伦', 'eason': '陈奕迅'}"
      ]
     },
     "execution_count": 81,
     "metadata": {},
     "output_type": "execute_result"
    }
   ],
   "source": [
    "lst1 = ['jj', 'jay', 'eason']\n",
    "lst2 = ['林俊杰', '周杰伦', '陈奕迅']\n",
    "\n",
    "dict_comp = {lst1[i]:lst2[i] for i in range(len(lst1))}\n",
    "dict_comp"
   ]
  },
  {
   "cell_type": "markdown",
   "id": "8970f2d8",
   "metadata": {},
   "source": [
    "### 5）集合推导式\n",
    "- 集合的特点：无序，不重复，自带去重功能。"
   ]
  },
  {
   "cell_type": "code",
   "execution_count": 82,
   "id": "c7ff8e6a",
   "metadata": {},
   "outputs": [
    {
     "data": {
      "text/plain": [
       "{1, 2, 3, 4, 5}"
      ]
     },
     "execution_count": 82,
     "metadata": {},
     "output_type": "execute_result"
    }
   ],
   "source": [
    "lst = [1,1,2,2,3,3,4,4,5,5]\n",
    "\n",
    "lst_set = {i for i in lst}\n",
    "lst_set"
   ]
  },
  {
   "cell_type": "markdown",
   "id": "10b16122",
   "metadata": {},
   "source": [
    "没有元组推导式"
   ]
  },
  {
   "cell_type": "markdown",
   "id": "f101300b",
   "metadata": {},
   "source": [
    "# Reference\n",
    "> 1. https://pythonav.com/wiki/detail/1/11/\n",
    "> 2. https://pythonav.com/wiki/detail/1/12/"
   ]
  }
 ],
 "metadata": {
  "kernelspec": {
   "display_name": "Python 3",
   "language": "python",
   "name": "python3"
  },
  "language_info": {
   "codemirror_mode": {
    "name": "ipython",
    "version": 3
   },
   "file_extension": ".py",
   "mimetype": "text/x-python",
   "name": "python",
   "nbconvert_exporter": "python",
   "pygments_lexer": "ipython3",
   "version": "3.8.5"
  }
 },
 "nbformat": 4,
 "nbformat_minor": 5
}
